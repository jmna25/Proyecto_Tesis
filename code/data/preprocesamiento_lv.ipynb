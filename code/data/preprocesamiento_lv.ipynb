{
 "cells": [
  {
   "cell_type": "code",
   "execution_count": 1,
   "id": "14f17f8e-dcb1-4652-a62e-92641e0db367",
   "metadata": {},
   "outputs": [],
   "source": [
    "import warnings\n",
    "warnings.filterwarnings( 'ignore' )"
   ]
  },
  {
   "cell_type": "code",
   "execution_count": 2,
   "id": "615ce863-66bd-4cfd-9627-78116f77a1f5",
   "metadata": {},
   "outputs": [],
   "source": [
    "import pandas as  pd\n",
    "import numpy as np\n",
    "import pickle\n",
    "import joblib\n",
    "from openpyxl import Workbook\n",
    "from openpyxl.utils.dataframe import dataframe_to_rows"
   ]
  },
  {
   "cell_type": "code",
   "execution_count": 3,
   "id": "3464884c-bdb0-48d8-a90e-010e1f3fbb52",
   "metadata": {},
   "outputs": [],
   "source": [
    "import variables_nombres as vn\n",
    "import funciones as fun"
   ]
  },
  {
   "cell_type": "markdown",
   "id": "6ad38bc0-ea57-4647-846f-8940100fce02",
   "metadata": {},
   "source": [
    "# 1. Datos del periodo 17 - 19"
   ]
  },
  {
   "cell_type": "markdown",
   "id": "4ab15393-e72c-42da-b2b4-52934a137da1",
   "metadata": {},
   "source": [
    "## 1.1. Cargar los datos"
   ]
  },
  {
   "cell_type": "code",
   "execution_count": 4,
   "id": "74805081-0699-49a6-94b0-e061945728b2",
   "metadata": {},
   "outputs": [],
   "source": [
    "path_1719 = r'..\\..\\input\\vl\\built_data\\base17_19_anualizada.dta'\n",
    "data_1719 = pd.read_stata( path_1719, \n",
    "                           convert_categoricals = False )"
   ]
  },
  {
   "cell_type": "code",
   "execution_count": 5,
   "id": "c6d8b5a0-b36b-4163-80df-4aa0e5c6a893",
   "metadata": {},
   "outputs": [
    {
     "data": {
      "text/plain": [
       "(74746, 188)"
      ]
     },
     "execution_count": 5,
     "metadata": {},
     "output_type": "execute_result"
    }
   ],
   "source": [
    "data_1719.shape"
   ]
  },
  {
   "cell_type": "code",
   "execution_count": 6,
   "id": "1549c91e-07e0-403a-adc4-23bf39a06660",
   "metadata": {},
   "outputs": [],
   "source": [
    "# Calcular número de personas por hogar\n",
    "data_1719[ 'n_personas_hogar' ] = data_1719.groupby( [ 'conglome', 'vivienda', 'hogar' ] )[ 'codperso' ].transform( 'count' )"
   ]
  },
  {
   "cell_type": "markdown",
   "id": "68aa4b63-5d5a-4bbf-945f-7bdc8b01bee8",
   "metadata": {},
   "source": [
    "## 1.2. Calcular el porcentaje de valores perdidos"
   ]
  },
  {
   "cell_type": "code",
   "execution_count": 7,
   "id": "ff67ce24-d053-41dc-8e8e-177eea993d03",
   "metadata": {},
   "outputs": [],
   "source": [
    "missing_percentage_1719 = ( data_1719.isnull().sum() / len( data_1719 ) ) * 100\n",
    "\n",
    "wb = Workbook()\n",
    "ws = wb.active\n",
    "\n",
    "for col_idx, col_name in enumerate( data_1719.columns, start = 1 ):\n",
    "    ws.cell( row = col_idx, \n",
    "             column = 1, \n",
    "             value = col_name )\n",
    "\n",
    "for row_idx, percentage in enumerate( missing_percentage_1719, start = 1 ):\n",
    "    ws.cell( row = row_idx, \n",
    "             column = 2, \n",
    "             value = percentage )\n",
    "\n",
    "wb.save( r'..\\..\\input\\vl\\built_data\\missing_values_percentaje_1719.xlsx' )"
   ]
  },
  {
   "cell_type": "markdown",
   "id": "54a05f4b-a103-413e-ae6a-7dc7d5cdfc03",
   "metadata": {},
   "source": [
    "## 1.3. Imputar con media y con moda"
   ]
  },
  {
   "cell_type": "code",
   "execution_count": 8,
   "id": "629cc79c-8c09-49cb-a6c2-624f9396a203",
   "metadata": {},
   "outputs": [],
   "source": [
    "data_1719 = fun.imputar_ii( data_1719, vn.num_vars, num = True, dummy = False )\n",
    "data_1719 = fun.imputar_ii( data_1719, vn.categ_vars, num = False, dummy = False )"
   ]
  },
  {
   "cell_type": "markdown",
   "id": "b6958194-cefa-45da-9fc9-2cb4f6a04c88",
   "metadata": {},
   "source": [
    "## 1.4. Binarizar variables multicategóricas"
   ]
  },
  {
   "cell_type": "code",
   "execution_count": 9,
   "id": "069a2eec-79d0-4686-bf5c-145cffd8d61c",
   "metadata": {},
   "outputs": [],
   "source": [
    "subset_binarizado        = []\n",
    "variables_para_binarizar = [ var for var in vn.variables_para_binarizar if var in data_1719.columns ]\n",
    "for col in variables_para_binarizar: \n",
    "    columna_binarizada   = pd.get_dummies( data_1719[ col ],\n",
    "                                           prefix = col )\n",
    "    subset_binarizado.append( columna_binarizada )\n",
    "    \n",
    "data_1719 = pd.concat( [ data_1719 ] + subset_binarizado, \n",
    "                       axis = 1 )\n",
    "data_1719 = data_1719.drop( columns = variables_para_binarizar )"
   ]
  },
  {
   "cell_type": "markdown",
   "id": "8e067533-660a-4424-b6f7-8c14eb985b22",
   "metadata": {},
   "source": [
    "## 1.5. Colapsar"
   ]
  },
  {
   "cell_type": "code",
   "execution_count": 10,
   "id": "29ef6a90-161e-4176-aea2-a45c26962c01",
   "metadata": {
    "tags": []
   },
   "outputs": [],
   "source": [
    "columnas_binarizadas = []\n",
    "for df in subset_binarizado:\n",
    "    columnas_binarizadas.extend( df.columns.tolist() )  "
   ]
  },
  {
   "cell_type": "code",
   "execution_count": 11,
   "id": "181e3d1e-b2f6-4f04-a72a-b1f41e6ae039",
   "metadata": {
    "tags": []
   },
   "outputs": [],
   "source": [
    "dummy_vars     = vn.variables_para_colapsar_dummies + columnas_binarizadas\n",
    "dummy_vars     = [ var for var in dummy_vars if var not in vn.variables_para_binarizar and var in data_1719.columns ]\n",
    "gasto_vars     = [ 'gasto_monetario_deflactado', 'gasto_bruto_deflactado', 'gashog1d', 'gashog2d', 'region', 'n_personas_hogar' ]\n",
    "household_vars = [ var for var in vn.variables_nivel_hogar if var not in vn.no_colapsables_vars and var in data_1719.columns ]\n",
    "household_vars = household_vars + gasto_vars\n",
    "mean_vars      = [ var for var in vn.variables_para_colapsar_prom if var in data_1719.columns ]"
   ]
  },
  {
   "cell_type": "code",
   "execution_count": 12,
   "id": "91daaf8b-185b-4638-9b17-0b8b51e8070f",
   "metadata": {
    "tags": []
   },
   "outputs": [],
   "source": [
    "agg_dict = { **{ col: 'max' for col in dummy_vars }, \n",
    "             **{ col: 'mean' for col in mean_vars },\n",
    "             **{ col: 'first' for col in household_vars } }\n",
    "data_1719 = data_1719.groupby( [ 'conglome', 'vivienda', 'hogar' ] ).agg( agg_dict ).reset_index()"
   ]
  },
  {
   "cell_type": "code",
   "execution_count": 13,
   "id": "9f816249-2c09-4b0d-9bc8-546a63ec8b29",
   "metadata": {},
   "outputs": [],
   "source": [
    "data_1719[ 'gasto_monetario_deflactado_pc_m' ] = ( ( data_1719[ 'gasto_monetario_deflactado' ]/data_1719[ 'n_personas_hogar' ] ) / 12 ) * 100\n",
    "data_1719[ 'gasto_bruto_deflactado_pc_m' ]     = ( ( data_1719[ 'gasto_bruto_deflactado' ]/data_1719[ 'n_personas_hogar' ] ) / 12 ) * 100\n",
    "data_1719[ 'gashog1d_pc_m' ]                   = ( data_1719[ 'gashog1d' ]/data_1719[ 'n_personas_hogar' ] ) / 12\n",
    "data_1719[ 'gashog2d_pc_m' ]                   = ( data_1719[ 'gashog2d' ]/data_1719[ 'n_personas_hogar' ] ) / 12"
   ]
  },
  {
   "cell_type": "markdown",
   "id": "2ef2040d-84d4-410a-a8ac-955a5cc802b8",
   "metadata": {},
   "source": [
    "## 1.7. Exportar datos"
   ]
  },
  {
   "cell_type": "code",
   "execution_count": 14,
   "id": "2c39383a-08e1-4502-a20e-3013070c316b",
   "metadata": {},
   "outputs": [],
   "source": [
    "data_1719.to_csv( r'..\\..\\input\\vl\\preprocessed_data\\base17_19_anualizada_hogares.csv', \n",
    "                  index = False )"
   ]
  },
  {
   "cell_type": "markdown",
   "id": "8f10deda-4a0e-4e97-87aa-96e0aafa773d",
   "metadata": {},
   "source": [
    "# 2. Datos del periodo 19 - 21"
   ]
  },
  {
   "cell_type": "markdown",
   "id": "19371d19-5ae7-48b0-8662-332994da3ec5",
   "metadata": {},
   "source": [
    "## 2.1. Cargar los datos"
   ]
  },
  {
   "cell_type": "code",
   "execution_count": 15,
   "id": "35d0044f-de55-45ae-a0aa-557921414911",
   "metadata": {},
   "outputs": [],
   "source": [
    "path_1921 = r'..\\..\\input\\vl\\built_data\\base19_21_anualizada.dta'\n",
    "data_1921 = pd.read_stata( path_1921, \n",
    "                           convert_categoricals = False )"
   ]
  },
  {
   "cell_type": "code",
   "execution_count": 16,
   "id": "a0470bf4-0679-4c3a-8089-e99172ba30b8",
   "metadata": {},
   "outputs": [
    {
     "data": {
      "text/plain": [
       "(75072, 140)"
      ]
     },
     "execution_count": 16,
     "metadata": {},
     "output_type": "execute_result"
    }
   ],
   "source": [
    "data_1921.shape"
   ]
  },
  {
   "cell_type": "code",
   "execution_count": 17,
   "id": "d0d16e28-5dc3-4324-aa37-dd3bd02f6b2e",
   "metadata": {},
   "outputs": [],
   "source": [
    "# Calcular número de personas por hogar\n",
    "data_1921[ 'n_personas_hogar' ] = data_1921.groupby( [ 'conglome', 'vivienda', 'hogar' ] )[ 'codperso' ].transform( 'count' )"
   ]
  },
  {
   "cell_type": "markdown",
   "id": "098bd1ff-46c3-4df0-97e0-f247141ed6d0",
   "metadata": {},
   "source": [
    "## 2.2. Calcular el porcentaje de valores perdidos"
   ]
  },
  {
   "cell_type": "code",
   "execution_count": 18,
   "id": "0b29e61f-e015-43bc-8031-3ef423e04116",
   "metadata": {},
   "outputs": [],
   "source": [
    "missing_percentage_1921 = ( data_1921.isnull().sum() / len( data_1921 ) ) * 100\n",
    "\n",
    "wb = Workbook()\n",
    "ws = wb.active\n",
    "\n",
    "for col_idx, col_name in enumerate( data_1921.columns, start = 1 ):\n",
    "    ws.cell( row = col_idx, \n",
    "             column = 1, \n",
    "             value = col_name )\n",
    "\n",
    "for row_idx, percentage in enumerate( missing_percentage_1921, start = 1 ):\n",
    "    ws.cell( row = row_idx, \n",
    "             column = 2, \n",
    "             value = percentage )\n",
    "\n",
    "wb.save( r'..\\..\\input\\vl\\built_data\\missing_values_percentaje_1921.xlsx' )"
   ]
  },
  {
   "cell_type": "markdown",
   "id": "0686e098-9e3f-4302-a72e-64c3b4ceaf1b",
   "metadata": {},
   "source": [
    "## 2.3. Imputar con media y con moda"
   ]
  },
  {
   "cell_type": "code",
   "execution_count": 19,
   "id": "2ec46e15-3c9d-4a25-b315-9c34f070967b",
   "metadata": {},
   "outputs": [],
   "source": [
    "data_1921 = fun.imputar_ii( data_1921, vn.num_vars, num = True, dummy = False )\n",
    "data_1921 = fun.imputar_ii( data_1921, vn.categ_vars, num = False, dummy = False )"
   ]
  },
  {
   "cell_type": "markdown",
   "id": "2a4b36bf-9074-4a28-853f-44c0e5012c86",
   "metadata": {},
   "source": [
    "## 1.4. Binarizar variables multicategóricas"
   ]
  },
  {
   "cell_type": "code",
   "execution_count": 20,
   "id": "d553cbe6-d237-429e-ac65-751312d1166e",
   "metadata": {},
   "outputs": [],
   "source": [
    "subset_binarizado        = []\n",
    "variables_para_binarizar = [ var for var in vn.variables_para_binarizar if var in data_1921.columns ]\n",
    "for col in variables_para_binarizar: \n",
    "    columna_binarizada   = pd.get_dummies( data_1921[ col ],\n",
    "                                           prefix = col )\n",
    "    subset_binarizado.append( columna_binarizada )\n",
    "    \n",
    "data_1921 = pd.concat( [ data_1921 ] + subset_binarizado, \n",
    "                       axis = 1 )\n",
    "data_1921 = data_1921.drop( columns = variables_para_binarizar )"
   ]
  },
  {
   "cell_type": "markdown",
   "id": "b566758c-5c1c-4c33-89d0-b58d1ba52abf",
   "metadata": {},
   "source": [
    "## 1.5. Colapsar"
   ]
  },
  {
   "cell_type": "code",
   "execution_count": 21,
   "id": "8c24bd43-043d-4af4-92c1-316d10c53a03",
   "metadata": {
    "tags": []
   },
   "outputs": [],
   "source": [
    "columnas_binarizadas = []\n",
    "for df in subset_binarizado:\n",
    "    columnas_binarizadas.extend( df.columns.tolist() )  "
   ]
  },
  {
   "cell_type": "code",
   "execution_count": 22,
   "id": "3f32d586-1ed2-418d-9ab9-c0ff981d3ce3",
   "metadata": {
    "tags": []
   },
   "outputs": [],
   "source": [
    "dummy_vars     = vn.variables_para_colapsar_dummies + columnas_binarizadas\n",
    "dummy_vars     = [ var for var in dummy_vars if var not in vn.variables_para_binarizar and var in data_1921.columns ]\n",
    "gasto_vars     = [ 'gasto_monetario_deflactado', 'gasto_bruto_deflactado', 'gashog1d', 'gashog2d', 'region', 'n_personas_hogar' ]\n",
    "household_vars = [ var for var in vn.variables_nivel_hogar if var not in vn.no_colapsables_vars and var in data_1921.columns ]\n",
    "household_vars = household_vars + gasto_vars\n",
    "mean_vars      = [ var for var in vn.variables_para_colapsar_prom if var in data_1921.columns ]"
   ]
  },
  {
   "cell_type": "code",
   "execution_count": 23,
   "id": "82777e4f-4355-4f42-b62a-2c040c51c24f",
   "metadata": {
    "tags": []
   },
   "outputs": [],
   "source": [
    "agg_dict = { **{ col: 'max' for col in dummy_vars }, \n",
    "             **{ col: 'mean' for col in mean_vars },\n",
    "             **{ col: 'first' for col in household_vars } }\n",
    "data_1921 = data_1921.groupby( [ 'conglome', 'vivienda', 'hogar' ] ).agg( agg_dict ).reset_index()"
   ]
  },
  {
   "cell_type": "code",
   "execution_count": 24,
   "id": "fd8e94d1-d2eb-4a7c-9083-65eb27fd71e7",
   "metadata": {},
   "outputs": [],
   "source": [
    "data_1921[ 'gasto_monetario_deflactado_pc_m' ] = ( ( data_1921[ 'gasto_monetario_deflactado' ]/data_1921[ 'n_personas_hogar' ] ) / 12 ) * 100\n",
    "data_1921[ 'gasto_bruto_deflactado_pc_m' ]     = ( ( data_1921[ 'gasto_bruto_deflactado' ]/data_1921[ 'n_personas_hogar' ] ) / 12 ) * 100\n",
    "data_1921[ 'gashog1d_pc_m' ]                   = ( data_1921[ 'gashog1d' ]/data_1921[ 'n_personas_hogar' ] ) / 12\n",
    "data_1921[ 'gashog2d_pc_m' ]                   = ( data_1921[ 'gashog2d' ]/data_1921[ 'n_personas_hogar' ] ) / 12"
   ]
  },
  {
   "cell_type": "markdown",
   "id": "465d95f7-f802-4c58-9980-6f1e2561319e",
   "metadata": {},
   "source": [
    "## 1.7. Exportar datos"
   ]
  },
  {
   "cell_type": "code",
   "execution_count": 25,
   "id": "03e36348-cd5c-4148-9ed4-0f7a73ed4eb7",
   "metadata": {},
   "outputs": [],
   "source": [
    "data_1921.to_csv( r'..\\..\\input\\vl\\preprocessed_data\\base19_21_anualizada_hogares.csv', \n",
    "                  index = False )"
   ]
  }
 ],
 "metadata": {
  "kernelspec": {
   "display_name": "Python 3 (ipykernel)",
   "language": "python",
   "name": "python3"
  },
  "language_info": {
   "codemirror_mode": {
    "name": "ipython",
    "version": 3
   },
   "file_extension": ".py",
   "mimetype": "text/x-python",
   "name": "python",
   "nbconvert_exporter": "python",
   "pygments_lexer": "ipython3",
   "version": "3.9.13"
  }
 },
 "nbformat": 4,
 "nbformat_minor": 5
}
