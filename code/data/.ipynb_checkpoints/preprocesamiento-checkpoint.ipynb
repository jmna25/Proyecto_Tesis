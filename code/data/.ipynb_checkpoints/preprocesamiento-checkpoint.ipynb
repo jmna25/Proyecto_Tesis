{
 "cells": [
  {
   "cell_type": "code",
   "execution_count": 1,
   "id": "14f17f8e-dcb1-4652-a62e-92641e0db367",
   "metadata": {},
   "outputs": [],
   "source": [
    "import warnings\n",
    "warnings.filterwarnings( 'ignore' )"
   ]
  },
  {
   "cell_type": "code",
   "execution_count": 2,
   "id": "615ce863-66bd-4cfd-9627-78116f77a1f5",
   "metadata": {},
   "outputs": [],
   "source": [
    "import pandas as  pd\n",
    "import numpy as np\n",
    "import pickle\n",
    "import joblib"
   ]
  },
  {
   "cell_type": "code",
   "execution_count": 3,
   "id": "3464884c-bdb0-48d8-a90e-010e1f3fbb52",
   "metadata": {},
   "outputs": [],
   "source": [
    "import variables_nombres as vn\n",
    "import funciones as fun"
   ]
  },
  {
   "cell_type": "markdown",
   "id": "6ad38bc0-ea57-4647-846f-8940100fce02",
   "metadata": {},
   "source": [
    "## 1. Datos del periodo 17 - 19"
   ]
  },
  {
   "cell_type": "markdown",
   "id": "4ab15393-e72c-42da-b2b4-52934a137da1",
   "metadata": {},
   "source": [
    "## 1.1. Cargar los datos"
   ]
  },
  {
   "cell_type": "code",
   "execution_count": 4,
   "id": "74805081-0699-49a6-94b0-e061945728b2",
   "metadata": {},
   "outputs": [],
   "source": [
    "path_1719 = r'..\\..\\input\\prediction\\built_data\\base17_19.csv'\n",
    "data_1719 = pd.read_csv( path_1719 )"
   ]
  },
  {
   "cell_type": "markdown",
   "id": "68aa4b63-5d5a-4bbf-945f-7bdc8b01bee8",
   "metadata": {},
   "source": [
    "## 1.2. Filtrar por porcentaje de valores perdidos"
   ]
  },
  {
   "cell_type": "code",
   "execution_count": 5,
   "id": "61c58a21-9146-4e27-830e-8cc4f5a2bf96",
   "metadata": {
    "tags": []
   },
   "outputs": [],
   "source": [
    "data_1719 = fun.filtro_missings( data_1719, 0.1 )"
   ]
  },
  {
   "cell_type": "code",
   "execution_count": 6,
   "id": "53b131de-cc03-4ed3-ab45-f679a0f5ba83",
   "metadata": {
    "tags": []
   },
   "outputs": [
    {
     "data": {
      "text/plain": [
       "(43137, 381)"
      ]
     },
     "execution_count": 6,
     "metadata": {},
     "output_type": "execute_result"
    }
   ],
   "source": [
    "data_1719.shape"
   ]
  },
  {
   "cell_type": "markdown",
   "id": "25f9a683-b7ef-4a65-9570-4b4bd89f3ac5",
   "metadata": {},
   "source": [
    "## 1.3. Filtrar columnas "
   ]
  },
  {
   "cell_type": "code",
   "execution_count": 7,
   "id": "48e8a0ee-088f-4d91-aa6b-b630d46b8aed",
   "metadata": {},
   "outputs": [],
   "source": [
    "cols_to_drop   = vn.gasto_variables + vn.gastos_ingresos_vars + vn.no_colapsables_vars + vn.string_variables + vn.no_predictoras_variables\n",
    "pred_vars_1719 = [ col for col in data_1719.columns if col not in cols_to_drop ]\n",
    "data_1719      = data_1719[ pred_vars_1719 ]"
   ]
  },
  {
   "cell_type": "markdown",
   "id": "54a05f4b-a103-413e-ae6a-7dc7d5cdfc03",
   "metadata": {},
   "source": [
    "## 1.4. Imputar con media y con moda"
   ]
  },
  {
   "cell_type": "code",
   "execution_count": 8,
   "id": "629cc79c-8c09-49cb-a6c2-624f9396a203",
   "metadata": {},
   "outputs": [],
   "source": [
    "data_1719 = fun.imputar_ii( data_1719, vn.num_vars, num = True, dummy = False )\n",
    "data_1719 = fun.imputar_ii( data_1719, vn.categ_vars, num = False, dummy = False )"
   ]
  },
  {
   "cell_type": "markdown",
   "id": "b6958194-cefa-45da-9fc9-2cb4f6a04c88",
   "metadata": {},
   "source": [
    "## 1.5. Binarizar variables multicategóricas"
   ]
  },
  {
   "cell_type": "code",
   "execution_count": 9,
   "id": "069a2eec-79d0-4686-bf5c-145cffd8d61c",
   "metadata": {},
   "outputs": [],
   "source": [
    "subset_binarizado        = []\n",
    "variables_para_binarizar = [ var for var in vn.variables_para_binarizar if var in data_1719.columns ]\n",
    "for col in variables_para_binarizar: \n",
    "    columna_binarizada   = pd.get_dummies( data_1719[ col ],\n",
    "                                           prefix = col )\n",
    "    subset_binarizado.append( columna_binarizada )\n",
    "    \n",
    "data_1719 = pd.concat( [ data_1719 ] + subset_binarizado, \n",
    "                       axis = 1 )\n",
    "data_1719 = data_1719.drop( columns = variables_para_binarizar )"
   ]
  },
  {
   "cell_type": "markdown",
   "id": "8e067533-660a-4424-b6f7-8c14eb985b22",
   "metadata": {},
   "source": [
    "## 1.6. Colapsar"
   ]
  },
  {
   "cell_type": "code",
   "execution_count": 10,
   "id": "29ef6a90-161e-4176-aea2-a45c26962c01",
   "metadata": {
    "tags": []
   },
   "outputs": [],
   "source": [
    "columnas_binarizadas = []\n",
    "for df in subset_binarizado:\n",
    "    columnas_binarizadas.extend( df.columns.tolist() )  "
   ]
  },
  {
   "cell_type": "code",
   "execution_count": 11,
   "id": "181e3d1e-b2f6-4f04-a72a-b1f41e6ae039",
   "metadata": {
    "tags": []
   },
   "outputs": [],
   "source": [
    "dummy_vars     = vn.variables_para_colapsar_dummies + columnas_binarizadas\n",
    "dummy_vars     = [ var for var in dummy_vars if var not in vn.variables_para_binarizar and var in data_1719.columns ]\n",
    "household_vars = [ var for var in vn.variables_nivel_hogar if var not in vn.no_colapsables_vars and var in data_1719.columns ]\n",
    "mean_vars      = [ var for var in vn.variables_para_colapsar_prom if var in data_1719.columns ]"
   ]
  },
  {
   "cell_type": "code",
   "execution_count": 12,
   "id": "91daaf8b-185b-4638-9b17-0b8b51e8070f",
   "metadata": {
    "tags": []
   },
   "outputs": [],
   "source": [
    "agg_dict = { **{ col: 'max' for col in dummy_vars }, \n",
    "             **{ col: 'mean' for col in mean_vars },\n",
    "             **{ col: 'first' for col in household_vars } }\n",
    "data_1719 = data_1719.groupby( 'numpanh' ).agg( agg_dict ).reset_index()"
   ]
  },
  {
   "cell_type": "markdown",
   "id": "2ef2040d-84d4-410a-a8ac-955a5cc802b8",
   "metadata": {},
   "source": [
    "## 1.7. Exportar datos"
   ]
  },
  {
   "cell_type": "code",
   "execution_count": 13,
   "id": "2c39383a-08e1-4502-a20e-3013070c316b",
   "metadata": {},
   "outputs": [],
   "source": [
    "data_1719.to_csv( r'..\\..\\input\\prediction\\preprocessed_data\\base17_19_hogar.csv', \n",
    "                  index = False )"
   ]
  },
  {
   "cell_type": "markdown",
   "id": "9a27d27d-3ea0-40ab-84c0-39b751f3e211",
   "metadata": {},
   "source": [
    "# 2. Datos del periodo 19 - 21"
   ]
  },
  {
   "cell_type": "markdown",
   "id": "0a4e2fd4-2b80-4ebd-a333-4684dbc829ac",
   "metadata": {},
   "source": [
    "## 2.1. Cargar los datos"
   ]
  },
  {
   "cell_type": "code",
   "execution_count": 14,
   "id": "ef6a2077-e94c-47e3-bbef-73779f2f471c",
   "metadata": {},
   "outputs": [],
   "source": [
    "path_1921 = r'..\\..\\input\\prediction\\built_data\\base19_21.csv'\n",
    "data_1921 = pd.read_csv( path_1921 )"
   ]
  },
  {
   "cell_type": "markdown",
   "id": "dd5e92e8-fa5c-491f-a473-3dd29eaec231",
   "metadata": {},
   "source": [
    "## 2.2. Filtrar por porcentaje de valores perdidos"
   ]
  },
  {
   "cell_type": "code",
   "execution_count": 15,
   "id": "a47af044-033e-4b26-bd61-6e67e03824ca",
   "metadata": {
    "tags": []
   },
   "outputs": [],
   "source": [
    "data_1921 = fun.filtro_missings( data_1921, 0.1 )"
   ]
  },
  {
   "cell_type": "code",
   "execution_count": 16,
   "id": "c778856b-96a4-4504-a038-1236f06016d7",
   "metadata": {
    "tags": []
   },
   "outputs": [
    {
     "data": {
      "text/plain": [
       "(39807, 359)"
      ]
     },
     "execution_count": 16,
     "metadata": {},
     "output_type": "execute_result"
    }
   ],
   "source": [
    "data_1921.shape"
   ]
  },
  {
   "cell_type": "markdown",
   "id": "9cb6d7ab-34b2-4560-a152-fb34e44aa711",
   "metadata": {},
   "source": [
    "## 2.3. Filtrar columnas "
   ]
  },
  {
   "cell_type": "code",
   "execution_count": 17,
   "id": "5d965e22-dec1-4279-b512-946cc7a09524",
   "metadata": {},
   "outputs": [],
   "source": [
    "cols_to_drop   = vn.gasto_variables + vn.gastos_ingresos_vars + vn.no_colapsables_vars + vn.string_variables + vn.no_predictoras_variables\n",
    "pred_vars_1921 = [ col for col in data_1921.columns if col not in cols_to_drop ]\n",
    "data_1921      = data_1921[ pred_vars_1921 ]"
   ]
  },
  {
   "cell_type": "markdown",
   "id": "4ede1781-ceee-4fb5-90d9-6a5fa28bae61",
   "metadata": {},
   "source": [
    "## 2.4. Imputar con media y con moda"
   ]
  },
  {
   "cell_type": "code",
   "execution_count": 18,
   "id": "bf2760f0-bd43-4138-9d1e-eda6abd61960",
   "metadata": {},
   "outputs": [],
   "source": [
    "data_1921 = fun.imputar_ii( data_1921, vn.num_vars, num = True, dummy = False )\n",
    "data_1921 = fun.imputar_ii( data_1921, vn.categ_vars, num = False, dummy = False )"
   ]
  },
  {
   "cell_type": "markdown",
   "id": "cbf703ab-cda9-461b-9bfe-5d607e67c2c7",
   "metadata": {},
   "source": [
    "## 2.5. Binarizar variables multicategóricas"
   ]
  },
  {
   "cell_type": "code",
   "execution_count": 19,
   "id": "2441c29d-fb4f-4ac8-b74d-157e17840658",
   "metadata": {},
   "outputs": [],
   "source": [
    "subset_binarizado_1719   = []\n",
    "variables_para_binarizar = [ var for var in vn.variables_para_binarizar if var in data_1921.columns ]\n",
    "\n",
    "for col in variables_para_binarizar: \n",
    "    columna_binarizada   = pd.get_dummies( data_1921[ col ],\n",
    "                                           prefix = col )\n",
    "    subset_binarizado_1719.append( columna_binarizada )\n",
    "    \n",
    "data_1921 = pd.concat( [ data_1921 ] + subset_binarizado_1719, \n",
    "                       axis = 1 )\n",
    "data_1921 = data_1921.drop( columns = variables_para_binarizar )"
   ]
  },
  {
   "cell_type": "markdown",
   "id": "e1f5747c-dee9-49f4-a580-15295c16d07b",
   "metadata": {},
   "source": [
    "## 2.6. Colapsar"
   ]
  },
  {
   "cell_type": "code",
   "execution_count": 20,
   "id": "0d54e873-3bdf-4a41-8fd5-598c88199aed",
   "metadata": {
    "tags": []
   },
   "outputs": [],
   "source": [
    "columnas_binarizadas = []\n",
    "for df in subset_binarizado_1719:\n",
    "    columnas_binarizadas.extend( df.columns.tolist() )  "
   ]
  },
  {
   "cell_type": "code",
   "execution_count": 21,
   "id": "0da98816-6e5b-4c77-ba07-f34ebef3a294",
   "metadata": {
    "tags": []
   },
   "outputs": [],
   "source": [
    "dummy_vars     = vn.variables_para_colapsar_dummies + columnas_binarizadas\n",
    "dummy_vars     = [ var for var in dummy_vars if var not in vn.variables_para_binarizar and var in data_1921.columns ]\n",
    "household_vars = [ var for var in vn.variables_nivel_hogar if var not in vn.no_colapsables_vars and var in data_1921.columns ]\n",
    "mean_vars      = [ var for var in vn.variables_para_colapsar_prom if var in data_1921.columns ]"
   ]
  },
  {
   "cell_type": "code",
   "execution_count": 22,
   "id": "e5bec21c-c309-4dae-b075-32cbe5f91fe7",
   "metadata": {
    "tags": []
   },
   "outputs": [],
   "source": [
    "agg_dict = { **{ col: 'max' for col in dummy_vars }, \n",
    "             **{ col: 'mean' for col in mean_vars },\n",
    "             **{ col: 'first' for col in household_vars } }\n",
    "data_1921 = data_1921.groupby( 'numpanh' ).agg( agg_dict ).reset_index()"
   ]
  },
  {
   "cell_type": "markdown",
   "id": "810fa07f-27ff-4e0d-928e-c69b7c506f65",
   "metadata": {},
   "source": [
    "## 2.7. Exportar datos"
   ]
  },
  {
   "cell_type": "code",
   "execution_count": 23,
   "id": "737387d0-4aad-43dc-9129-bab632db9ab2",
   "metadata": {},
   "outputs": [],
   "source": [
    "data_1921.to_csv( r'..\\..\\input\\prediction\\preprocessed_data\\base19_21_hogar.csv', \n",
    "                  index = False )"
   ]
  }
 ],
 "metadata": {
  "kernelspec": {
   "display_name": "Python 3 (ipykernel)",
   "language": "python",
   "name": "python3"
  },
  "language_info": {
   "codemirror_mode": {
    "name": "ipython",
    "version": 3
   },
   "file_extension": ".py",
   "mimetype": "text/x-python",
   "name": "python",
   "nbconvert_exporter": "python",
   "pygments_lexer": "ipython3",
   "version": "3.9.13"
  }
 },
 "nbformat": 4,
 "nbformat_minor": 5
}
