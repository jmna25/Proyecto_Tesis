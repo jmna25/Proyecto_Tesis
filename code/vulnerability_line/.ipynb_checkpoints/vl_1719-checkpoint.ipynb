{
 "cells": [
  {
   "cell_type": "markdown",
   "id": "4aae9323-694f-4976-9146-72010705c0fd",
   "metadata": {},
   "source": [
    "# BASE 1719"
   ]
  },
  {
   "cell_type": "markdown",
   "id": "ec0d6e3c-9e39-4fd9-8c58-2d17830f898b",
   "metadata": {},
   "source": [
    "Information:\n",
    "* Periodo: 2017-2019\n",
    "* Objetivo: predicción de pobreza"
   ]
  },
  {
   "cell_type": "markdown",
   "id": "d236ca29-9cac-467a-b71c-5ee069a0c66e",
   "metadata": {},
   "source": [
    "## 1. Importar datos y librerias"
   ]
  },
  {
   "cell_type": "code",
   "execution_count": 1,
   "id": "68aac77e-aa90-4248-8dbb-59b431514229",
   "metadata": {},
   "outputs": [],
   "source": [
    "import warnings\n",
    "warnings.filterwarnings( 'ignore' )"
   ]
  },
  {
   "cell_type": "code",
   "execution_count": 28,
   "id": "7568e757-1cfa-4417-8f45-1c2336d9c2cb",
   "metadata": {},
   "outputs": [],
   "source": [
    "import pandas as pd\n",
    "import numpy as np\n",
    "import pickle\n",
    "import joblib\n",
    "import matplotlib.pyplot as plt"
   ]
  },
  {
   "cell_type": "code",
   "execution_count": 3,
   "id": "aac33820-a19a-42ae-b3f9-a5c9bdc48abd",
   "metadata": {},
   "outputs": [],
   "source": [
    "path = r'..\\..\\input\\vl\\preprocessed_data\\base17_19_anualizada_hogares.dta'\n",
    "data_original = pd.read_csv( path )"
   ]
  },
  {
   "cell_type": "code",
   "execution_count": 4,
   "id": "e15a751c-0f40-48e0-9f7a-9b1d032ed535",
   "metadata": {},
   "outputs": [
    {
     "data": {
      "text/plain": [
       "(34584, 200)"
      ]
     },
     "execution_count": 4,
     "metadata": {},
     "output_type": "execute_result"
    }
   ],
   "source": [
    "data_original.shape"
   ]
  },
  {
   "cell_type": "code",
   "execution_count": 5,
   "id": "f138906c-5fa4-4c3d-affb-17310f25ea6d",
   "metadata": {},
   "outputs": [
    {
     "data": {
      "text/html": [
       "<div>\n",
       "<style scoped>\n",
       "    .dataframe tbody tr th:only-of-type {\n",
       "        vertical-align: middle;\n",
       "    }\n",
       "\n",
       "    .dataframe tbody tr th {\n",
       "        vertical-align: top;\n",
       "    }\n",
       "\n",
       "    .dataframe thead th {\n",
       "        text-align: right;\n",
       "    }\n",
       "</style>\n",
       "<table border=\"1\" class=\"dataframe\">\n",
       "  <thead>\n",
       "    <tr style=\"text-align: right;\">\n",
       "      <th></th>\n",
       "      <th>conglome</th>\n",
       "      <th>vivienda</th>\n",
       "      <th>hogar</th>\n",
       "      <th>p300a_t</th>\n",
       "      <th>p301a_t</th>\n",
       "      <th>p301d_t</th>\n",
       "      <th>p303_t</th>\n",
       "      <th>p306_t</th>\n",
       "      <th>p310_t</th>\n",
       "      <th>p310b1_t</th>\n",
       "      <th>...</th>\n",
       "      <th>p1175_12_t</th>\n",
       "      <th>p1175_13_t</th>\n",
       "      <th>p1175_14_t</th>\n",
       "      <th>p1175_15_t</th>\n",
       "      <th>t110_t</th>\n",
       "      <th>gasto_monetario_deflactado</th>\n",
       "      <th>gasto_bruto_deflactado</th>\n",
       "      <th>gashog1d</th>\n",
       "      <th>gashog2d</th>\n",
       "      <th>region</th>\n",
       "    </tr>\n",
       "  </thead>\n",
       "  <tbody>\n",
       "    <tr>\n",
       "      <th>0</th>\n",
       "      <td>5001</td>\n",
       "      <td>2</td>\n",
       "      <td>11</td>\n",
       "      <td>4.0</td>\n",
       "      <td>6.0</td>\n",
       "      <td>1.0</td>\n",
       "      <td>2.0</td>\n",
       "      <td>2.0</td>\n",
       "      <td>2.0</td>\n",
       "      <td>2.0</td>\n",
       "      <td>...</td>\n",
       "      <td>0</td>\n",
       "      <td>0</td>\n",
       "      <td>0</td>\n",
       "      <td>0</td>\n",
       "      <td>2</td>\n",
       "      <td>276.111500</td>\n",
       "      <td>368.075100</td>\n",
       "      <td>28682.766761</td>\n",
       "      <td>38236.044552</td>\n",
       "      <td>1</td>\n",
       "    </tr>\n",
       "    <tr>\n",
       "      <th>1</th>\n",
       "      <td>5001</td>\n",
       "      <td>23</td>\n",
       "      <td>11</td>\n",
       "      <td>4.0</td>\n",
       "      <td>5.0</td>\n",
       "      <td>1.0</td>\n",
       "      <td>2.0</td>\n",
       "      <td>2.0</td>\n",
       "      <td>2.0</td>\n",
       "      <td>2.0</td>\n",
       "      <td>...</td>\n",
       "      <td>0</td>\n",
       "      <td>0</td>\n",
       "      <td>0</td>\n",
       "      <td>2</td>\n",
       "      <td>1</td>\n",
       "      <td>88.087260</td>\n",
       "      <td>125.934160</td>\n",
       "      <td>9150.600633</td>\n",
       "      <td>13082.178226</td>\n",
       "      <td>1</td>\n",
       "    </tr>\n",
       "    <tr>\n",
       "      <th>2</th>\n",
       "      <td>5001</td>\n",
       "      <td>35</td>\n",
       "      <td>11</td>\n",
       "      <td>4.0</td>\n",
       "      <td>3.0</td>\n",
       "      <td>1.0</td>\n",
       "      <td>2.0</td>\n",
       "      <td>2.0</td>\n",
       "      <td>2.0</td>\n",
       "      <td>2.0</td>\n",
       "      <td>...</td>\n",
       "      <td>0</td>\n",
       "      <td>0</td>\n",
       "      <td>0</td>\n",
       "      <td>2</td>\n",
       "      <td>1</td>\n",
       "      <td>64.939300</td>\n",
       "      <td>100.953470</td>\n",
       "      <td>6745.965384</td>\n",
       "      <td>10487.156982</td>\n",
       "      <td>1</td>\n",
       "    </tr>\n",
       "    <tr>\n",
       "      <th>3</th>\n",
       "      <td>5001</td>\n",
       "      <td>46</td>\n",
       "      <td>11</td>\n",
       "      <td>4.0</td>\n",
       "      <td>6.0</td>\n",
       "      <td>1.0</td>\n",
       "      <td>2.0</td>\n",
       "      <td>2.0</td>\n",
       "      <td>2.0</td>\n",
       "      <td>2.0</td>\n",
       "      <td>...</td>\n",
       "      <td>0</td>\n",
       "      <td>0</td>\n",
       "      <td>0</td>\n",
       "      <td>2</td>\n",
       "      <td>2</td>\n",
       "      <td>143.894700</td>\n",
       "      <td>286.947780</td>\n",
       "      <td>14947.937984</td>\n",
       "      <td>29808.449931</td>\n",
       "      <td>1</td>\n",
       "    </tr>\n",
       "    <tr>\n",
       "      <th>4</th>\n",
       "      <td>5001</td>\n",
       "      <td>67</td>\n",
       "      <td>11</td>\n",
       "      <td>4.0</td>\n",
       "      <td>3.0</td>\n",
       "      <td>1.0</td>\n",
       "      <td>2.0</td>\n",
       "      <td>2.0</td>\n",
       "      <td>2.0</td>\n",
       "      <td>2.0</td>\n",
       "      <td>...</td>\n",
       "      <td>0</td>\n",
       "      <td>0</td>\n",
       "      <td>0</td>\n",
       "      <td>0</td>\n",
       "      <td>2</td>\n",
       "      <td>59.929256</td>\n",
       "      <td>66.743935</td>\n",
       "      <td>6225.516580</td>\n",
       "      <td>6933.432594</td>\n",
       "      <td>1</td>\n",
       "    </tr>\n",
       "    <tr>\n",
       "      <th>...</th>\n",
       "      <td>...</td>\n",
       "      <td>...</td>\n",
       "      <td>...</td>\n",
       "      <td>...</td>\n",
       "      <td>...</td>\n",
       "      <td>...</td>\n",
       "      <td>...</td>\n",
       "      <td>...</td>\n",
       "      <td>...</td>\n",
       "      <td>...</td>\n",
       "      <td>...</td>\n",
       "      <td>...</td>\n",
       "      <td>...</td>\n",
       "      <td>...</td>\n",
       "      <td>...</td>\n",
       "      <td>...</td>\n",
       "      <td>...</td>\n",
       "      <td>...</td>\n",
       "      <td>...</td>\n",
       "      <td>...</td>\n",
       "      <td>...</td>\n",
       "    </tr>\n",
       "    <tr>\n",
       "      <th>34579</th>\n",
       "      <td>10801</td>\n",
       "      <td>9</td>\n",
       "      <td>11</td>\n",
       "      <td>4.0</td>\n",
       "      <td>9.0</td>\n",
       "      <td>2.0</td>\n",
       "      <td>2.0</td>\n",
       "      <td>2.0</td>\n",
       "      <td>2.0</td>\n",
       "      <td>2.0</td>\n",
       "      <td>...</td>\n",
       "      <td>0</td>\n",
       "      <td>0</td>\n",
       "      <td>0</td>\n",
       "      <td>0</td>\n",
       "      <td>1</td>\n",
       "      <td>294.939800</td>\n",
       "      <td>425.381160</td>\n",
       "      <td>32074.329786</td>\n",
       "      <td>46259.667570</td>\n",
       "      <td>23</td>\n",
       "    </tr>\n",
       "    <tr>\n",
       "      <th>34580</th>\n",
       "      <td>10801</td>\n",
       "      <td>19</td>\n",
       "      <td>11</td>\n",
       "      <td>4.0</td>\n",
       "      <td>10.0</td>\n",
       "      <td>2.0</td>\n",
       "      <td>2.0</td>\n",
       "      <td>2.0</td>\n",
       "      <td>2.0</td>\n",
       "      <td>2.0</td>\n",
       "      <td>...</td>\n",
       "      <td>0</td>\n",
       "      <td>0</td>\n",
       "      <td>0</td>\n",
       "      <td>0</td>\n",
       "      <td>1</td>\n",
       "      <td>143.342380</td>\n",
       "      <td>237.430820</td>\n",
       "      <td>15588.303651</td>\n",
       "      <td>25820.303651</td>\n",
       "      <td>23</td>\n",
       "    </tr>\n",
       "    <tr>\n",
       "      <th>34581</th>\n",
       "      <td>10801</td>\n",
       "      <td>25</td>\n",
       "      <td>11</td>\n",
       "      <td>4.0</td>\n",
       "      <td>10.0</td>\n",
       "      <td>2.0</td>\n",
       "      <td>1.0</td>\n",
       "      <td>2.0</td>\n",
       "      <td>1.0</td>\n",
       "      <td>2.0</td>\n",
       "      <td>...</td>\n",
       "      <td>0</td>\n",
       "      <td>0</td>\n",
       "      <td>0</td>\n",
       "      <td>0</td>\n",
       "      <td>1</td>\n",
       "      <td>212.797640</td>\n",
       "      <td>218.342530</td>\n",
       "      <td>23141.476173</td>\n",
       "      <td>23744.476173</td>\n",
       "      <td>23</td>\n",
       "    </tr>\n",
       "    <tr>\n",
       "      <th>34582</th>\n",
       "      <td>10801</td>\n",
       "      <td>30</td>\n",
       "      <td>11</td>\n",
       "      <td>4.0</td>\n",
       "      <td>10.0</td>\n",
       "      <td>1.0</td>\n",
       "      <td>2.0</td>\n",
       "      <td>2.0</td>\n",
       "      <td>2.0</td>\n",
       "      <td>2.0</td>\n",
       "      <td>...</td>\n",
       "      <td>0</td>\n",
       "      <td>0</td>\n",
       "      <td>0</td>\n",
       "      <td>0</td>\n",
       "      <td>1</td>\n",
       "      <td>239.535250</td>\n",
       "      <td>458.516100</td>\n",
       "      <td>26049.156966</td>\n",
       "      <td>49863.050304</td>\n",
       "      <td>23</td>\n",
       "    </tr>\n",
       "    <tr>\n",
       "      <th>34583</th>\n",
       "      <td>10801</td>\n",
       "      <td>35</td>\n",
       "      <td>11</td>\n",
       "      <td>4.0</td>\n",
       "      <td>11.0</td>\n",
       "      <td>2.0</td>\n",
       "      <td>2.0</td>\n",
       "      <td>2.0</td>\n",
       "      <td>1.0</td>\n",
       "      <td>2.0</td>\n",
       "      <td>...</td>\n",
       "      <td>0</td>\n",
       "      <td>0</td>\n",
       "      <td>0</td>\n",
       "      <td>0</td>\n",
       "      <td>1</td>\n",
       "      <td>590.231300</td>\n",
       "      <td>768.918640</td>\n",
       "      <td>64186.917184</td>\n",
       "      <td>83618.935592</td>\n",
       "      <td>23</td>\n",
       "    </tr>\n",
       "  </tbody>\n",
       "</table>\n",
       "<p>34584 rows × 200 columns</p>\n",
       "</div>"
      ],
      "text/plain": [
       "       conglome  vivienda  hogar  p300a_t  p301a_t  p301d_t  p303_t  p306_t  \\\n",
       "0          5001         2     11      4.0      6.0      1.0     2.0     2.0   \n",
       "1          5001        23     11      4.0      5.0      1.0     2.0     2.0   \n",
       "2          5001        35     11      4.0      3.0      1.0     2.0     2.0   \n",
       "3          5001        46     11      4.0      6.0      1.0     2.0     2.0   \n",
       "4          5001        67     11      4.0      3.0      1.0     2.0     2.0   \n",
       "...         ...       ...    ...      ...      ...      ...     ...     ...   \n",
       "34579     10801         9     11      4.0      9.0      2.0     2.0     2.0   \n",
       "34580     10801        19     11      4.0     10.0      2.0     2.0     2.0   \n",
       "34581     10801        25     11      4.0     10.0      2.0     1.0     2.0   \n",
       "34582     10801        30     11      4.0     10.0      1.0     2.0     2.0   \n",
       "34583     10801        35     11      4.0     11.0      2.0     2.0     2.0   \n",
       "\n",
       "       p310_t  p310b1_t  ...  p1175_12_t  p1175_13_t  p1175_14_t  p1175_15_t  \\\n",
       "0         2.0       2.0  ...           0           0           0           0   \n",
       "1         2.0       2.0  ...           0           0           0           2   \n",
       "2         2.0       2.0  ...           0           0           0           2   \n",
       "3         2.0       2.0  ...           0           0           0           2   \n",
       "4         2.0       2.0  ...           0           0           0           0   \n",
       "...       ...       ...  ...         ...         ...         ...         ...   \n",
       "34579     2.0       2.0  ...           0           0           0           0   \n",
       "34580     2.0       2.0  ...           0           0           0           0   \n",
       "34581     1.0       2.0  ...           0           0           0           0   \n",
       "34582     2.0       2.0  ...           0           0           0           0   \n",
       "34583     1.0       2.0  ...           0           0           0           0   \n",
       "\n",
       "       t110_t  gasto_monetario_deflactado  gasto_bruto_deflactado  \\\n",
       "0           2                  276.111500              368.075100   \n",
       "1           1                   88.087260              125.934160   \n",
       "2           1                   64.939300              100.953470   \n",
       "3           2                  143.894700              286.947780   \n",
       "4           2                   59.929256               66.743935   \n",
       "...       ...                         ...                     ...   \n",
       "34579       1                  294.939800              425.381160   \n",
       "34580       1                  143.342380              237.430820   \n",
       "34581       1                  212.797640              218.342530   \n",
       "34582       1                  239.535250              458.516100   \n",
       "34583       1                  590.231300              768.918640   \n",
       "\n",
       "           gashog1d      gashog2d  region  \n",
       "0      28682.766761  38236.044552       1  \n",
       "1       9150.600633  13082.178226       1  \n",
       "2       6745.965384  10487.156982       1  \n",
       "3      14947.937984  29808.449931       1  \n",
       "4       6225.516580   6933.432594       1  \n",
       "...             ...           ...     ...  \n",
       "34579  32074.329786  46259.667570      23  \n",
       "34580  15588.303651  25820.303651      23  \n",
       "34581  23141.476173  23744.476173      23  \n",
       "34582  26049.156966  49863.050304      23  \n",
       "34583  64186.917184  83618.935592      23  \n",
       "\n",
       "[34584 rows x 200 columns]"
      ]
     },
     "execution_count": 5,
     "metadata": {},
     "output_type": "execute_result"
    }
   ],
   "source": [
    "data_original"
   ]
  },
  {
   "cell_type": "markdown",
   "id": "0c77baf7-211c-4260-807a-d0724c8a915b",
   "metadata": {},
   "source": [
    "### 2. Preprocesar datos"
   ]
  },
  {
   "cell_type": "code",
   "execution_count": 6,
   "id": "1caaafd3-484a-49fe-877e-f4ae2b4acc08",
   "metadata": {},
   "outputs": [],
   "source": [
    "# # Imputación de valores del gasto del percentil 1% superior con valores del percentil 99\n",
    "\n",
    "# percentil_superior = 0.01\n",
    "# perc = data_original[ 'gasto_deflactado' ].quantile( 1 - percentil_superior )\n",
    "# data.loc[ data_original [ 'gasto_deflactado' ] > perc, 'gasto_deflactado' ] = perc"
   ]
  },
  {
   "cell_type": "code",
   "execution_count": 7,
   "id": "9ad7d859-6424-44b1-bef8-2efcb8093a61",
   "metadata": {},
   "outputs": [],
   "source": [
    "next_vars = [ 'gasto_monetario_deflactado', 'gasto_bruto_deflactado', \n",
    "              'region', 'conglome',\t'vivienda',\t'hogar',\n",
    "              'gashog1d', 'gashog2d' ]\n",
    "data      = data_original.drop(  next_vars , axis = 1 )"
   ]
  },
  {
   "cell_type": "code",
   "execution_count": 8,
   "id": "f0105576-aa45-4980-933e-af002a2cb7b6",
   "metadata": {},
   "outputs": [],
   "source": [
    "data = data.rename(columns = { 'ocu500_t_2': 'ocu500_t_2.0', \n",
    "                               'ocu500_t_1': 'ocu500_t_1.0',\n",
    "                               'ocu500_t_4': 'ocu500_t_4.0',\n",
    "                               'ocu500_t_3': 'ocu500_t_3.0',\n",
    "                               'ocu500_t_0': 'ocu500_t_0.0' } )"
   ]
  },
  {
   "cell_type": "markdown",
   "id": "56fb1f55-6c3a-4987-8e05-94b12c88978b",
   "metadata": {},
   "source": [
    "### 3. Importar modelos entrenados y predecir"
   ]
  },
  {
   "cell_type": "code",
   "execution_count": 9,
   "id": "5fa5c9b6-10af-485d-9969-837baa0d4d76",
   "metadata": {
    "tags": []
   },
   "outputs": [],
   "source": [
    "rf_optimal_model_o = joblib.load( r'..\\..\\output\\ejecucion_2\\models\\base_17_19\\base_17_19_xgb_nrs.joblib' )\n",
    "\n",
    "y_rf_pred_class_o  = rf_optimal_model_o.predict( data )\n",
    "y_rf_pred_prob_o   = rf_optimal_model_o.predict_proba( data )[ :, 1 ]"
   ]
  },
  {
   "cell_type": "code",
   "execution_count": 10,
   "id": "1df5dec3-370a-4144-b2b3-b861c2e5b854",
   "metadata": {},
   "outputs": [
    {
     "data": {
      "text/plain": [
       "array([0.03666018, 0.5939412 , 0.2471458 , ..., 0.02759312, 0.0020578 ,\n",
       "       0.00633319], dtype=float32)"
      ]
     },
     "execution_count": 10,
     "metadata": {},
     "output_type": "execute_result"
    }
   ],
   "source": [
    "y_rf_pred_prob_o"
   ]
  },
  {
   "cell_type": "markdown",
   "id": "bd80a62d-73f7-46b5-b5a5-b30d498fe4ce",
   "metadata": {},
   "source": [
    "### 4. Identificar hogares vulnerables"
   ]
  },
  {
   "cell_type": "code",
   "execution_count": 18,
   "id": "991febd5-2f0c-4566-bfea-fde8efec6b3f",
   "metadata": {
    "tags": []
   },
   "outputs": [],
   "source": [
    "data_completa = data_original.copy( deep = True )\n",
    "\n",
    "data_completa[ 'class_pobreza' ] = y_rf_pred_class_o\n",
    "data_completa[ 'prob_pobreza' ]  = y_rf_pred_prob_o"
   ]
  },
  {
   "cell_type": "code",
   "execution_count": 24,
   "id": "62242f17-52a6-4dc4-8535-6de106b1f532",
   "metadata": {},
   "outputs": [
    {
     "data": {
      "text/plain": [
       "0    61.892783\n",
       "1    38.107217\n",
       "Name: class_pobreza, dtype: float64"
      ]
     },
     "execution_count": 24,
     "metadata": {},
     "output_type": "execute_result"
    }
   ],
   "source": [
    "data_completa[ 'class_pobreza' ].value_counts( normalize = True )*100"
   ]
  },
  {
   "cell_type": "code",
   "execution_count": 25,
   "id": "553aa339-2432-4304-a022-23c6d3708e22",
   "metadata": {},
   "outputs": [
    {
     "data": {
      "text/plain": [
       "0        0.036660\n",
       "1        0.593941\n",
       "2        0.247146\n",
       "3        0.473719\n",
       "4        0.748970\n",
       "           ...   \n",
       "34579    0.171063\n",
       "34580    0.004022\n",
       "34581    0.027593\n",
       "34582    0.002058\n",
       "34583    0.006333\n",
       "Name: prob_pobreza, Length: 34584, dtype: float32"
      ]
     },
     "execution_count": 25,
     "metadata": {},
     "output_type": "execute_result"
    }
   ],
   "source": [
    "data_completa[ 'prob_pobreza' ]"
   ]
  },
  {
   "cell_type": "code",
   "execution_count": 27,
   "id": "56909871-760d-4604-9ad1-8455d990e23e",
   "metadata": {},
   "outputs": [
    {
     "data": {
      "image/png": "[encoded data removed]",
      "text/plain": [
       "<Figure size 640x480 with 1 Axes>"
      ]
     },
     "metadata": {},
     "output_type": "display_data"
    }
   ],
   "source": [
    "plt.hist( data_completa[ 'prob_pobreza' ], \n",
    "          bins = 20, \n",
    "          range = (0, 1), \n",
    "          edgecolor = 'black' )\n",
    "\n",
    "plt.xlabel('Probabilidad')\n",
    "plt.ylabel('Frecuencia')\n",
    "plt.title('Distribución de la variable \"Probabilidad de caer en pobreza\"')\n",
    "plt.show()"
   ]
  },
  {
   "cell_type": "markdown",
   "id": "c542b60a-3665-442a-b6cf-c7a876342e82",
   "metadata": {},
   "source": [
    "Se considera distintas amplitudes de caliper: \n",
    "* 1: +-   2 con respecto a 0.9 (absoluto)\n",
    "* 2: +-   1 con respecto a 0.9 (absoluto)\n",
    "* 3: +- 0.5 con respecto a 0.9 (absoluto)"
   ]
  },
  {
   "cell_type": "code",
   "execution_count": 19,
   "id": "570c1c2f-1659-4396-84ec-ef3672bfd9bf",
   "metadata": {},
   "outputs": [],
   "source": [
    "limite_min_1 = 0.070\n",
    "limite_max_1 = 0.110\n",
    "\n",
    "limite_min_2 = 0.080\n",
    "limite_max_2 = 0.100\n",
    "\n",
    "limite_min_3 = 0.085\n",
    "limite_max_3 = 0.095\n",
    "\n",
    "hogares_vulnerables_1 = data_completa[ ( data_completa[ 'prob_pobreza' ] >= limite_min_1 ) & ( data_completa[ 'prob_pobreza' ] <= limite_max_1 ) ]\n",
    "hogares_vulnerables_2 = data_completa[ ( data_completa[ 'prob_pobreza' ] >= limite_min_2 ) & ( data_completa[ 'prob_pobreza' ] <= limite_max_2 ) ]\n",
    "hogares_vulnerables_3 = data_completa[ ( data_completa[ 'prob_pobreza' ] >= limite_min_3 ) & ( data_completa[ 'prob_pobreza' ] <= limite_max_3 ) ]"
   ]
  },
  {
   "cell_type": "markdown",
   "id": "ecbf0d6b-457d-41b6-981f-403f5b9fa362",
   "metadata": {},
   "source": [
    "### 5. Calcular la línea de vulnerabilidad"
   ]
  },
  {
   "cell_type": "code",
   "execution_count": 20,
   "id": "e5204ff6-379f-4680-b29d-8ccaf7e9b2f1",
   "metadata": {},
   "outputs": [],
   "source": [
    "linea_vul_1_gmd = hogares_vulnerables_1[ 'gasto_monetario_deflactado' ].mean()\n",
    "linea_vul_1_gbd = hogares_vulnerables_1[ 'gasto_bruto_deflactado' ].mean()\n",
    "linea_vul_1_gm  = hogares_vulnerables_1[ 'gashog1d' ].mean()\n",
    "linea_vul_1_gb  = hogares_vulnerables_1[ 'gashog2d' ].mean()"
   ]
  },
  {
   "cell_type": "code",
   "execution_count": 21,
   "id": "1933536f-a7d0-47ba-aaa5-0474f378fcd5",
   "metadata": {},
   "outputs": [],
   "source": [
    "linea_vul_2_gmd = hogares_vulnerables_2[ 'gasto_monetario_deflactado' ].mean()\n",
    "linea_vul_2_gbd = hogares_vulnerables_2[ 'gasto_bruto_deflactado' ].mean()\n",
    "linea_vul_2_gm  = hogares_vulnerables_2[ 'gashog1d' ].mean()\n",
    "linea_vul_2_gb  = hogares_vulnerables_2[ 'gashog2d' ].mean()"
   ]
  },
  {
   "cell_type": "code",
   "execution_count": 22,
   "id": "ba64294b-5794-4186-b7e8-ca6a112c663d",
   "metadata": {},
   "outputs": [],
   "source": [
    "linea_vul_3_gmd = hogares_vulnerables_3[ 'gasto_monetario_deflactado' ].mean()\n",
    "linea_vul_3_gbd = hogares_vulnerables_3[ 'gasto_bruto_deflactado' ].mean()\n",
    "linea_vul_3_gm  = hogares_vulnerables_3[ 'gashog1d' ].mean()\n",
    "linea_vul_3_gb  = hogares_vulnerables_3[ 'gashog2d' ].mean()"
   ]
  },
  {
   "cell_type": "code",
   "execution_count": 23,
   "id": "a28c3299-536d-4862-9307-a43f2259a8e7",
   "metadata": {},
   "outputs": [
    {
     "data": {
      "text/html": [
       "<div>\n",
       "<style scoped>\n",
       "    .dataframe tbody tr th:only-of-type {\n",
       "        vertical-align: middle;\n",
       "    }\n",
       "\n",
       "    .dataframe tbody tr th {\n",
       "        vertical-align: top;\n",
       "    }\n",
       "\n",
       "    .dataframe thead th {\n",
       "        text-align: right;\n",
       "    }\n",
       "</style>\n",
       "<table border=\"1\" class=\"dataframe\">\n",
       "  <thead>\n",
       "    <tr style=\"text-align: right;\">\n",
       "      <th></th>\n",
       "      <th>Gasto Monetario Deflactado</th>\n",
       "      <th>Gasto Bruto Deflactado</th>\n",
       "      <th>Gasto Monetario</th>\n",
       "      <th>Gasto Bruto</th>\n",
       "    </tr>\n",
       "  </thead>\n",
       "  <tbody>\n",
       "    <tr>\n",
       "      <th>Cáliper +- 2</th>\n",
       "      <td>215.896</td>\n",
       "      <td>279.939</td>\n",
       "      <td>23494.289</td>\n",
       "      <td>30481.252</td>\n",
       "    </tr>\n",
       "    <tr>\n",
       "      <th>Cáliper +- 1</th>\n",
       "      <td>217.120</td>\n",
       "      <td>278.456</td>\n",
       "      <td>23633.876</td>\n",
       "      <td>30311.506</td>\n",
       "    </tr>\n",
       "    <tr>\n",
       "      <th>Cáliper +- 0.5</th>\n",
       "      <td>211.347</td>\n",
       "      <td>273.464</td>\n",
       "      <td>23052.336</td>\n",
       "      <td>29821.965</td>\n",
       "    </tr>\n",
       "  </tbody>\n",
       "</table>\n",
       "</div>"
      ],
      "text/plain": [
       "                Gasto Monetario Deflactado  Gasto Bruto Deflactado  \\\n",
       "Cáliper +- 2                       215.896                 279.939   \n",
       "Cáliper +- 1                       217.120                 278.456   \n",
       "Cáliper +- 0.5                     211.347                 273.464   \n",
       "\n",
       "                Gasto Monetario  Gasto Bruto  \n",
       "Cáliper +- 2          23494.289    30481.252  \n",
       "Cáliper +- 1          23633.876    30311.506  \n",
       "Cáliper +- 0.5        23052.336    29821.965  "
      ]
     },
     "execution_count": 23,
     "metadata": {},
     "output_type": "execute_result"
    }
   ],
   "source": [
    "table = np.zeros( ( 3, 4 ) )\n",
    "\n",
    "table[ 0 ] = [ linea_vul_1_gmd, linea_vul_1_gbd, linea_vul_1_gm, linea_vul_1_gb ]\n",
    "table[ 1 ] = [ linea_vul_2_gmd, linea_vul_2_gbd, linea_vul_2_gm, linea_vul_2_gb ]\n",
    "table[ 2 ] = [ linea_vul_3_gmd, linea_vul_3_gbd, linea_vul_3_gm, linea_vul_3_gb ]\n",
    "\n",
    "colnames = [ 'Gasto Monetario Deflactado', 'Gasto Bruto Deflactado', 'Gasto Monetario', 'Gasto Bruto' ]\n",
    "\n",
    "rownames = [ 'Cáliper +- 2', \n",
    "             'Cáliper +- 1', \n",
    "             'Cáliper +- 0.5' ]\n",
    "\n",
    "table_all = pd.DataFrame( table, columns = colnames )\n",
    "table_all.index = rownames\n",
    "\n",
    "table_all = table_all.round( 3 )\n",
    "table_all"
   ]
  },
  {
   "cell_type": "code",
   "execution_count": null,
   "id": "3253c1f3-15d3-4fc3-a614-609f54775b48",
   "metadata": {},
   "outputs": [],
   "source": []
  }
 ],
 "metadata": {
  "kernelspec": {
   "display_name": "Python 3 (ipykernel)",
   "language": "python",
   "name": "python3"
  },
  "language_info": {
   "codemirror_mode": {
    "name": "ipython",
    "version": 3
   },
   "file_extension": ".py",
   "mimetype": "text/x-python",
   "name": "python",
   "nbconvert_exporter": "python",
   "pygments_lexer": "ipython3",
   "version": "3.9.13"
  }
 },
 "nbformat": 4,
 "nbformat_minor": 5
}
