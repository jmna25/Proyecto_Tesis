{
 "cells": [
  {
   "cell_type": "markdown",
   "id": "4aae9323-694f-4976-9146-72010705c0fd",
   "metadata": {},
   "source": [
    "# BASE 1719"
   ]
  },
  {
   "cell_type": "markdown",
   "id": "ec0d6e3c-9e39-4fd9-8c58-2d17830f898b",
   "metadata": {},
   "source": [
    "Information:\n",
    "* Periodo: 2017-2019\n",
    "* Objetivo: predicción de pobreza"
   ]
  },
  {
   "cell_type": "markdown",
   "id": "d236ca29-9cac-467a-b71c-5ee069a0c66e",
   "metadata": {},
   "source": [
    "## 1. Importar datos y librerias"
   ]
  },
  {
   "cell_type": "code",
   "execution_count": 1,
   "id": "68aac77e-aa90-4248-8dbb-59b431514229",
   "metadata": {},
   "outputs": [],
   "source": [
    "import warnings\n",
    "warnings.filterwarnings( 'ignore' )"
   ]
  },
  {
   "cell_type": "code",
   "execution_count": 2,
   "id": "7568e757-1cfa-4417-8f45-1c2336d9c2cb",
   "metadata": {},
   "outputs": [],
   "source": [
    "import pandas as pd\n",
    "import numpy as np\n",
    "import pickle\n",
    "import joblib\n",
    "import matplotlib.pyplot as plt"
   ]
  },
  {
   "cell_type": "code",
   "execution_count": 3,
   "id": "aac33820-a19a-42ae-b3f9-a5c9bdc48abd",
   "metadata": {},
   "outputs": [],
   "source": [
    "path = r'..\\..\\input\\vl\\preprocessed_data\\base19_21_anualizada_hogares.csv'\n",
    "data_original = pd.read_csv( path )"
   ]
  },
  {
   "cell_type": "code",
   "execution_count": 4,
   "id": "e15a751c-0f40-48e0-9f7a-9b1d032ed535",
   "metadata": {},
   "outputs": [
    {
     "data": {
      "text/plain": [
       "(28621, 150)"
      ]
     },
     "execution_count": 4,
     "metadata": {},
     "output_type": "execute_result"
    }
   ],
   "source": [
    "data_original.shape"
   ]
  },
  {
   "cell_type": "code",
   "execution_count": 5,
   "id": "f138906c-5fa4-4c3d-affb-17310f25ea6d",
   "metadata": {},
   "outputs": [
    {
     "data": {
      "text/html": [
       "<div>\n",
       "<style scoped>\n",
       "    .dataframe tbody tr th:only-of-type {\n",
       "        vertical-align: middle;\n",
       "    }\n",
       "\n",
       "    .dataframe tbody tr th {\n",
       "        vertical-align: top;\n",
       "    }\n",
       "\n",
       "    .dataframe thead th {\n",
       "        text-align: right;\n",
       "    }\n",
       "</style>\n",
       "<table border=\"1\" class=\"dataframe\">\n",
       "  <thead>\n",
       "    <tr style=\"text-align: right;\">\n",
       "      <th></th>\n",
       "      <th>conglome</th>\n",
       "      <th>vivienda</th>\n",
       "      <th>hogar</th>\n",
       "      <th>p300a_t</th>\n",
       "      <th>p301a_t</th>\n",
       "      <th>p301d_t</th>\n",
       "      <th>p306_t</th>\n",
       "      <th>p310_t</th>\n",
       "      <th>p314a_t</th>\n",
       "      <th>p316a1_t</th>\n",
       "      <th>...</th>\n",
       "      <th>p1175_12_t</th>\n",
       "      <th>p1175_13_t</th>\n",
       "      <th>p1175_14_t</th>\n",
       "      <th>p1175_15_t</th>\n",
       "      <th>t110_t</th>\n",
       "      <th>gasto_monetario_deflactado</th>\n",
       "      <th>gasto_bruto_deflactado</th>\n",
       "      <th>gashog1d</th>\n",
       "      <th>gashog2d</th>\n",
       "      <th>region</th>\n",
       "    </tr>\n",
       "  </thead>\n",
       "  <tbody>\n",
       "    <tr>\n",
       "      <th>0</th>\n",
       "      <td>5001</td>\n",
       "      <td>7</td>\n",
       "      <td>11</td>\n",
       "      <td>4.0</td>\n",
       "      <td>9.0</td>\n",
       "      <td>1.0</td>\n",
       "      <td>2.0</td>\n",
       "      <td>2.0</td>\n",
       "      <td>2.0</td>\n",
       "      <td>1.0</td>\n",
       "      <td>...</td>\n",
       "      <td>0</td>\n",
       "      <td>0</td>\n",
       "      <td>0</td>\n",
       "      <td>2</td>\n",
       "      <td>1</td>\n",
       "      <td>244.50192</td>\n",
       "      <td>293.05790</td>\n",
       "      <td>26283.179688</td>\n",
       "      <td>31502.792969</td>\n",
       "      <td>1</td>\n",
       "    </tr>\n",
       "    <tr>\n",
       "      <th>1</th>\n",
       "      <td>5001</td>\n",
       "      <td>17</td>\n",
       "      <td>11</td>\n",
       "      <td>4.0</td>\n",
       "      <td>9.0</td>\n",
       "      <td>1.0</td>\n",
       "      <td>2.0</td>\n",
       "      <td>2.0</td>\n",
       "      <td>2.0</td>\n",
       "      <td>1.0</td>\n",
       "      <td>...</td>\n",
       "      <td>0</td>\n",
       "      <td>0</td>\n",
       "      <td>0</td>\n",
       "      <td>0</td>\n",
       "      <td>1</td>\n",
       "      <td>195.50545</td>\n",
       "      <td>226.12697</td>\n",
       "      <td>21016.214844</td>\n",
       "      <td>24307.929688</td>\n",
       "      <td>1</td>\n",
       "    </tr>\n",
       "    <tr>\n",
       "      <th>2</th>\n",
       "      <td>5001</td>\n",
       "      <td>40</td>\n",
       "      <td>11</td>\n",
       "      <td>4.0</td>\n",
       "      <td>4.0</td>\n",
       "      <td>1.0</td>\n",
       "      <td>2.0</td>\n",
       "      <td>2.0</td>\n",
       "      <td>2.0</td>\n",
       "      <td>1.0</td>\n",
       "      <td>...</td>\n",
       "      <td>0</td>\n",
       "      <td>0</td>\n",
       "      <td>0</td>\n",
       "      <td>0</td>\n",
       "      <td>8</td>\n",
       "      <td>151.23450</td>\n",
       "      <td>182.08891</td>\n",
       "      <td>16257.227539</td>\n",
       "      <td>19573.978516</td>\n",
       "      <td>1</td>\n",
       "    </tr>\n",
       "    <tr>\n",
       "      <th>3</th>\n",
       "      <td>5001</td>\n",
       "      <td>50</td>\n",
       "      <td>11</td>\n",
       "      <td>4.0</td>\n",
       "      <td>10.0</td>\n",
       "      <td>1.0</td>\n",
       "      <td>2.0</td>\n",
       "      <td>2.0</td>\n",
       "      <td>2.0</td>\n",
       "      <td>1.0</td>\n",
       "      <td>...</td>\n",
       "      <td>0</td>\n",
       "      <td>0</td>\n",
       "      <td>0</td>\n",
       "      <td>0</td>\n",
       "      <td>1</td>\n",
       "      <td>347.91210</td>\n",
       "      <td>401.37238</td>\n",
       "      <td>37399.445312</td>\n",
       "      <td>43146.253906</td>\n",
       "      <td>1</td>\n",
       "    </tr>\n",
       "    <tr>\n",
       "      <th>4</th>\n",
       "      <td>5001</td>\n",
       "      <td>73</td>\n",
       "      <td>11</td>\n",
       "      <td>4.0</td>\n",
       "      <td>6.0</td>\n",
       "      <td>1.0</td>\n",
       "      <td>2.0</td>\n",
       "      <td>2.0</td>\n",
       "      <td>2.0</td>\n",
       "      <td>1.0</td>\n",
       "      <td>...</td>\n",
       "      <td>0</td>\n",
       "      <td>0</td>\n",
       "      <td>0</td>\n",
       "      <td>0</td>\n",
       "      <td>1</td>\n",
       "      <td>112.70666</td>\n",
       "      <td>166.29034</td>\n",
       "      <td>12115.607422</td>\n",
       "      <td>17875.683594</td>\n",
       "      <td>1</td>\n",
       "    </tr>\n",
       "    <tr>\n",
       "      <th>...</th>\n",
       "      <td>...</td>\n",
       "      <td>...</td>\n",
       "      <td>...</td>\n",
       "      <td>...</td>\n",
       "      <td>...</td>\n",
       "      <td>...</td>\n",
       "      <td>...</td>\n",
       "      <td>...</td>\n",
       "      <td>...</td>\n",
       "      <td>...</td>\n",
       "      <td>...</td>\n",
       "      <td>...</td>\n",
       "      <td>...</td>\n",
       "      <td>...</td>\n",
       "      <td>...</td>\n",
       "      <td>...</td>\n",
       "      <td>...</td>\n",
       "      <td>...</td>\n",
       "      <td>...</td>\n",
       "      <td>...</td>\n",
       "      <td>...</td>\n",
       "    </tr>\n",
       "    <tr>\n",
       "      <th>28616</th>\n",
       "      <td>11350</td>\n",
       "      <td>3</td>\n",
       "      <td>11</td>\n",
       "      <td>4.0</td>\n",
       "      <td>8.0</td>\n",
       "      <td>1.0</td>\n",
       "      <td>2.0</td>\n",
       "      <td>2.0</td>\n",
       "      <td>1.0</td>\n",
       "      <td>1.0</td>\n",
       "      <td>...</td>\n",
       "      <td>0</td>\n",
       "      <td>0</td>\n",
       "      <td>0</td>\n",
       "      <td>0</td>\n",
       "      <td>1</td>\n",
       "      <td>446.44815</td>\n",
       "      <td>550.65137</td>\n",
       "      <td>50240.550781</td>\n",
       "      <td>61966.941406</td>\n",
       "      <td>18</td>\n",
       "    </tr>\n",
       "    <tr>\n",
       "      <th>28617</th>\n",
       "      <td>11350</td>\n",
       "      <td>22</td>\n",
       "      <td>11</td>\n",
       "      <td>4.0</td>\n",
       "      <td>8.0</td>\n",
       "      <td>1.0</td>\n",
       "      <td>2.0</td>\n",
       "      <td>2.0</td>\n",
       "      <td>2.0</td>\n",
       "      <td>1.0</td>\n",
       "      <td>...</td>\n",
       "      <td>0</td>\n",
       "      <td>0</td>\n",
       "      <td>0</td>\n",
       "      <td>0</td>\n",
       "      <td>1</td>\n",
       "      <td>288.93720</td>\n",
       "      <td>334.95610</td>\n",
       "      <td>32515.228516</td>\n",
       "      <td>37693.914062</td>\n",
       "      <td>18</td>\n",
       "    </tr>\n",
       "    <tr>\n",
       "      <th>28618</th>\n",
       "      <td>11350</td>\n",
       "      <td>59</td>\n",
       "      <td>11</td>\n",
       "      <td>4.0</td>\n",
       "      <td>8.0</td>\n",
       "      <td>2.0</td>\n",
       "      <td>2.0</td>\n",
       "      <td>2.0</td>\n",
       "      <td>1.0</td>\n",
       "      <td>1.0</td>\n",
       "      <td>...</td>\n",
       "      <td>0</td>\n",
       "      <td>0</td>\n",
       "      <td>0</td>\n",
       "      <td>0</td>\n",
       "      <td>3</td>\n",
       "      <td>129.27802</td>\n",
       "      <td>205.00523</td>\n",
       "      <td>14548.159180</td>\n",
       "      <td>23070.037109</td>\n",
       "      <td>18</td>\n",
       "    </tr>\n",
       "    <tr>\n",
       "      <th>28619</th>\n",
       "      <td>11350</td>\n",
       "      <td>78</td>\n",
       "      <td>11</td>\n",
       "      <td>4.0</td>\n",
       "      <td>7.0</td>\n",
       "      <td>1.0</td>\n",
       "      <td>2.0</td>\n",
       "      <td>2.0</td>\n",
       "      <td>1.0</td>\n",
       "      <td>1.0</td>\n",
       "      <td>...</td>\n",
       "      <td>0</td>\n",
       "      <td>0</td>\n",
       "      <td>0</td>\n",
       "      <td>0</td>\n",
       "      <td>3</td>\n",
       "      <td>70.34337</td>\n",
       "      <td>156.97852</td>\n",
       "      <td>7916.013184</td>\n",
       "      <td>17665.404297</td>\n",
       "      <td>18</td>\n",
       "    </tr>\n",
       "    <tr>\n",
       "      <th>28620</th>\n",
       "      <td>11350</td>\n",
       "      <td>116</td>\n",
       "      <td>11</td>\n",
       "      <td>4.0</td>\n",
       "      <td>9.0</td>\n",
       "      <td>2.0</td>\n",
       "      <td>2.0</td>\n",
       "      <td>2.0</td>\n",
       "      <td>2.0</td>\n",
       "      <td>1.0</td>\n",
       "      <td>...</td>\n",
       "      <td>0</td>\n",
       "      <td>0</td>\n",
       "      <td>0</td>\n",
       "      <td>0</td>\n",
       "      <td>1</td>\n",
       "      <td>130.16606</td>\n",
       "      <td>180.26001</td>\n",
       "      <td>14648.094727</td>\n",
       "      <td>20285.361328</td>\n",
       "      <td>18</td>\n",
       "    </tr>\n",
       "  </tbody>\n",
       "</table>\n",
       "<p>28621 rows × 150 columns</p>\n",
       "</div>"
      ],
      "text/plain": [
       "       conglome  vivienda  hogar  p300a_t  p301a_t  p301d_t  p306_t  p310_t  \\\n",
       "0          5001         7     11      4.0      9.0      1.0     2.0     2.0   \n",
       "1          5001        17     11      4.0      9.0      1.0     2.0     2.0   \n",
       "2          5001        40     11      4.0      4.0      1.0     2.0     2.0   \n",
       "3          5001        50     11      4.0     10.0      1.0     2.0     2.0   \n",
       "4          5001        73     11      4.0      6.0      1.0     2.0     2.0   \n",
       "...         ...       ...    ...      ...      ...      ...     ...     ...   \n",
       "28616     11350         3     11      4.0      8.0      1.0     2.0     2.0   \n",
       "28617     11350        22     11      4.0      8.0      1.0     2.0     2.0   \n",
       "28618     11350        59     11      4.0      8.0      2.0     2.0     2.0   \n",
       "28619     11350        78     11      4.0      7.0      1.0     2.0     2.0   \n",
       "28620     11350       116     11      4.0      9.0      2.0     2.0     2.0   \n",
       "\n",
       "       p314a_t  p316a1_t  ...  p1175_12_t  p1175_13_t  p1175_14_t  p1175_15_t  \\\n",
       "0          2.0       1.0  ...           0           0           0           2   \n",
       "1          2.0       1.0  ...           0           0           0           0   \n",
       "2          2.0       1.0  ...           0           0           0           0   \n",
       "3          2.0       1.0  ...           0           0           0           0   \n",
       "4          2.0       1.0  ...           0           0           0           0   \n",
       "...        ...       ...  ...         ...         ...         ...         ...   \n",
       "28616      1.0       1.0  ...           0           0           0           0   \n",
       "28617      2.0       1.0  ...           0           0           0           0   \n",
       "28618      1.0       1.0  ...           0           0           0           0   \n",
       "28619      1.0       1.0  ...           0           0           0           0   \n",
       "28620      2.0       1.0  ...           0           0           0           0   \n",
       "\n",
       "       t110_t  gasto_monetario_deflactado  gasto_bruto_deflactado  \\\n",
       "0           1                   244.50192               293.05790   \n",
       "1           1                   195.50545               226.12697   \n",
       "2           8                   151.23450               182.08891   \n",
       "3           1                   347.91210               401.37238   \n",
       "4           1                   112.70666               166.29034   \n",
       "...       ...                         ...                     ...   \n",
       "28616       1                   446.44815               550.65137   \n",
       "28617       1                   288.93720               334.95610   \n",
       "28618       3                   129.27802               205.00523   \n",
       "28619       3                    70.34337               156.97852   \n",
       "28620       1                   130.16606               180.26001   \n",
       "\n",
       "           gashog1d      gashog2d  region  \n",
       "0      26283.179688  31502.792969       1  \n",
       "1      21016.214844  24307.929688       1  \n",
       "2      16257.227539  19573.978516       1  \n",
       "3      37399.445312  43146.253906       1  \n",
       "4      12115.607422  17875.683594       1  \n",
       "...             ...           ...     ...  \n",
       "28616  50240.550781  61966.941406      18  \n",
       "28617  32515.228516  37693.914062      18  \n",
       "28618  14548.159180  23070.037109      18  \n",
       "28619   7916.013184  17665.404297      18  \n",
       "28620  14648.094727  20285.361328      18  \n",
       "\n",
       "[28621 rows x 150 columns]"
      ]
     },
     "execution_count": 5,
     "metadata": {},
     "output_type": "execute_result"
    }
   ],
   "source": [
    "data_original"
   ]
  },
  {
   "cell_type": "markdown",
   "id": "0c77baf7-211c-4260-807a-d0724c8a915b",
   "metadata": {},
   "source": [
    "### 2. Preprocesar datos"
   ]
  },
  {
   "cell_type": "code",
   "execution_count": 6,
   "id": "1caaafd3-484a-49fe-877e-f4ae2b4acc08",
   "metadata": {},
   "outputs": [],
   "source": [
    "# # Imputación de valores del gasto del percentil 1% superior con valores del percentil 99\n",
    "\n",
    "# percentil_superior = 0.01\n",
    "# perc = data_original[ 'gasto_deflactado' ].quantile( 1 - percentil_superior )\n",
    "# data.loc[ data_original [ 'gasto_deflactado' ] > perc, 'gasto_deflactado' ] = perc"
   ]
  },
  {
   "cell_type": "code",
   "execution_count": 7,
   "id": "9ad7d859-6424-44b1-bef8-2efcb8093a61",
   "metadata": {},
   "outputs": [],
   "source": [
    "next_vars = [ 'gasto_monetario_deflactado', 'gasto_bruto_deflactado', \n",
    "              'region', 'conglome',\t'vivienda',\t'hogar',\n",
    "              'gashog1d', 'gashog2d' ]\n",
    "data      = data_original.drop(  next_vars , axis = 1 )"
   ]
  },
  {
   "cell_type": "code",
   "execution_count": 8,
   "id": "f0105576-aa45-4980-933e-af002a2cb7b6",
   "metadata": {},
   "outputs": [],
   "source": [
    "data = data.rename(columns = { 'ocu500_t_2': 'ocu500_t_2.0', \n",
    "                               'ocu500_t_1': 'ocu500_t_1.0',\n",
    "                               'ocu500_t_4': 'ocu500_t_4.0',\n",
    "                               'ocu500_t_3': 'ocu500_t_3.0',\n",
    "                               'ocu500_t_0': 'ocu500_t_0.0' } )"
   ]
  },
  {
   "cell_type": "markdown",
   "id": "56fb1f55-6c3a-4987-8e05-94b12c88978b",
   "metadata": {},
   "source": [
    "### 3. Importar modelos entrenados y predecir"
   ]
  },
  {
   "cell_type": "code",
   "execution_count": 9,
   "id": "5fa5c9b6-10af-485d-9969-837baa0d4d76",
   "metadata": {
    "tags": []
   },
   "outputs": [],
   "source": [
    "xgb_optimal_model_o = joblib.load( r'..\\..\\output\\ejecucion_2\\models\\base_19_21\\base_19_21_xgb_nrs.joblib' )\n",
    "\n",
    "y_xgb_pred_class_o  = xgb_optimal_model_o.predict( data )\n",
    "y_xgb_pred_prob_o   = xgb_optimal_model_o.predict_proba( data )[ :, 1 ]"
   ]
  },
  {
   "cell_type": "code",
   "execution_count": 10,
   "id": "1df5dec3-370a-4144-b2b3-b861c2e5b854",
   "metadata": {},
   "outputs": [
    {
     "data": {
      "text/plain": [
       "array([0.13101797, 0.5720779 , 0.291695  , ..., 0.12571199, 0.4525376 ,\n",
       "       0.6324123 ], dtype=float32)"
      ]
     },
     "execution_count": 10,
     "metadata": {},
     "output_type": "execute_result"
    }
   ],
   "source": [
    "y_xgb_pred_prob_o"
   ]
  },
  {
   "cell_type": "markdown",
   "id": "bd80a62d-73f7-46b5-b5a5-b30d498fe4ce",
   "metadata": {},
   "source": [
    "### 4. Identificar hogares vulnerables"
   ]
  },
  {
   "cell_type": "code",
   "execution_count": 11,
   "id": "991febd5-2f0c-4566-bfea-fde8efec6b3f",
   "metadata": {
    "tags": []
   },
   "outputs": [],
   "source": [
    "data_completa = data_original.copy( deep = True )\n",
    "\n",
    "data_completa[ 'class_pobreza' ] = y_xgb_pred_class_o\n",
    "data_completa[ 'prob_pobreza' ]  = y_xgb_pred_prob_o"
   ]
  },
  {
   "cell_type": "code",
   "execution_count": 12,
   "id": "62242f17-52a6-4dc4-8535-6de106b1f532",
   "metadata": {},
   "outputs": [
    {
     "data": {
      "text/plain": [
       "0    62.027882\n",
       "1    37.972118\n",
       "Name: class_pobreza, dtype: float64"
      ]
     },
     "execution_count": 12,
     "metadata": {},
     "output_type": "execute_result"
    }
   ],
   "source": [
    "data_completa[ 'class_pobreza' ].value_counts( normalize = True )*100"
   ]
  },
  {
   "cell_type": "code",
   "execution_count": 13,
   "id": "553aa339-2432-4304-a022-23c6d3708e22",
   "metadata": {},
   "outputs": [
    {
     "data": {
      "text/plain": [
       "0        0.131018\n",
       "1        0.572078\n",
       "2        0.291695\n",
       "3        0.285086\n",
       "4        0.438945\n",
       "           ...   \n",
       "28616    0.450765\n",
       "28617    0.360824\n",
       "28618    0.125712\n",
       "28619    0.452538\n",
       "28620    0.632412\n",
       "Name: prob_pobreza, Length: 28621, dtype: float32"
      ]
     },
     "execution_count": 13,
     "metadata": {},
     "output_type": "execute_result"
    }
   ],
   "source": [
    "data_completa[ 'prob_pobreza' ]"
   ]
  },
  {
   "cell_type": "code",
   "execution_count": 14,
   "id": "56909871-760d-4604-9ad1-8455d990e23e",
   "metadata": {},
   "outputs": [
    {
     "data": {
      "image/png": "[encoded data removed]",
      "text/plain": [
       "<Figure size 640x480 with 1 Axes>"
      ]
     },
     "metadata": {},
     "output_type": "display_data"
    }
   ],
   "source": [
    "plt.hist( data_completa[ 'prob_pobreza' ], \n",
    "          bins = 20, \n",
    "          range = (0, 1), \n",
    "          edgecolor = 'black' )\n",
    "\n",
    "plt.xlabel('Probabilidad')\n",
    "plt.ylabel('Frecuencia')\n",
    "plt.title('Distribución de la variable \"Probabilidad de caer en pobreza\"')\n",
    "\n",
    "plt.savefig( r'..\\..\\output\\ejecucion_2\\vl\\plots\\base_19_21\\barplot_prob_1921.jpg', \n",
    "             format = 'jpg' )\n",
    "\n",
    "plt.show()"
   ]
  },
  {
   "cell_type": "markdown",
   "id": "c542b60a-3665-442a-b6cf-c7a876342e82",
   "metadata": {},
   "source": [
    "Se considera distintas amplitudes de caliper: \n",
    "* 1: +-   2\n",
    "* 2: +-   1\n",
    "* 3: +- 0.5\n",
    "\n",
    "Umbral de vulnerabilidade del periodo 2019-2021: \n",
    "* Valor real: 12.02\n",
    "* Valor redondeado: 12"
   ]
  },
  {
   "cell_type": "code",
   "execution_count": 15,
   "id": "570c1c2f-1659-4396-84ec-ef3672bfd9bf",
   "metadata": {},
   "outputs": [],
   "source": [
    "limite_min_1 = 0.100\n",
    "limite_max_1 = 0.140\n",
    "\n",
    "limite_min_2 = 0.110\n",
    "limite_max_2 = 0.120\n",
    "\n",
    "limite_min_3 = 0.115\n",
    "limite_max_3 = 0.125\n",
    "\n",
    "hogares_vulnerables_1 = data_completa[ ( data_completa[ 'prob_pobreza' ] >= limite_min_1 ) & ( data_completa[ 'prob_pobreza' ] <= limite_max_1 ) ]\n",
    "hogares_vulnerables_2 = data_completa[ ( data_completa[ 'prob_pobreza' ] >= limite_min_2 ) & ( data_completa[ 'prob_pobreza' ] <= limite_max_2 ) ]\n",
    "hogares_vulnerables_3 = data_completa[ ( data_completa[ 'prob_pobreza' ] >= limite_min_3 ) & ( data_completa[ 'prob_pobreza' ] <= limite_max_3 ) ]"
   ]
  },
  {
   "cell_type": "markdown",
   "id": "ecbf0d6b-457d-41b6-981f-403f5b9fa362",
   "metadata": {},
   "source": [
    "### 5. Calcular la línea de vulnerabilidad"
   ]
  },
  {
   "cell_type": "code",
   "execution_count": 16,
   "id": "e5204ff6-379f-4680-b29d-8ccaf7e9b2f1",
   "metadata": {},
   "outputs": [],
   "source": [
    "linea_vul_1_gmd = hogares_vulnerables_1[ 'gasto_monetario_deflactado' ].mean()\n",
    "linea_vul_1_gbd = hogares_vulnerables_1[ 'gasto_bruto_deflactado' ].mean()\n",
    "linea_vul_1_gm  = hogares_vulnerables_1[ 'gashog1d' ].mean()\n",
    "linea_vul_1_gb  = hogares_vulnerables_1[ 'gashog2d' ].mean()"
   ]
  },
  {
   "cell_type": "code",
   "execution_count": 17,
   "id": "1933536f-a7d0-47ba-aaa5-0474f378fcd5",
   "metadata": {},
   "outputs": [],
   "source": [
    "linea_vul_2_gmd = hogares_vulnerables_2[ 'gasto_monetario_deflactado' ].mean()\n",
    "linea_vul_2_gbd = hogares_vulnerables_2[ 'gasto_bruto_deflactado' ].mean()\n",
    "linea_vul_2_gm  = hogares_vulnerables_2[ 'gashog1d' ].mean()\n",
    "linea_vul_2_gb  = hogares_vulnerables_2[ 'gashog2d' ].mean()"
   ]
  },
  {
   "cell_type": "code",
   "execution_count": 18,
   "id": "ba64294b-5794-4186-b7e8-ca6a112c663d",
   "metadata": {},
   "outputs": [],
   "source": [
    "linea_vul_3_gmd = hogares_vulnerables_3[ 'gasto_monetario_deflactado' ].mean()\n",
    "linea_vul_3_gbd = hogares_vulnerables_3[ 'gasto_bruto_deflactado' ].mean()\n",
    "linea_vul_3_gm  = hogares_vulnerables_3[ 'gashog1d' ].mean()\n",
    "linea_vul_3_gb  = hogares_vulnerables_3[ 'gashog2d' ].mean()"
   ]
  },
  {
   "cell_type": "code",
   "execution_count": 19,
   "id": "a28c3299-536d-4862-9307-a43f2259a8e7",
   "metadata": {},
   "outputs": [
    {
     "data": {
      "text/html": [
       "<div>\n",
       "<style scoped>\n",
       "    .dataframe tbody tr th:only-of-type {\n",
       "        vertical-align: middle;\n",
       "    }\n",
       "\n",
       "    .dataframe tbody tr th {\n",
       "        vertical-align: top;\n",
       "    }\n",
       "\n",
       "    .dataframe thead th {\n",
       "        text-align: right;\n",
       "    }\n",
       "</style>\n",
       "<table border=\"1\" class=\"dataframe\">\n",
       "  <thead>\n",
       "    <tr style=\"text-align: right;\">\n",
       "      <th></th>\n",
       "      <th>Gasto Monetario Deflactado</th>\n",
       "      <th>Gasto Bruto Deflactado</th>\n",
       "      <th>Gasto Monetario</th>\n",
       "      <th>Gasto Bruto</th>\n",
       "    </tr>\n",
       "  </thead>\n",
       "  <tbody>\n",
       "    <tr>\n",
       "      <th>Cáliper +- 2</th>\n",
       "      <td>261.478</td>\n",
       "      <td>341.017</td>\n",
       "      <td>29613.338</td>\n",
       "      <td>38667.535</td>\n",
       "    </tr>\n",
       "    <tr>\n",
       "      <th>Cáliper +- 1</th>\n",
       "      <td>273.358</td>\n",
       "      <td>353.704</td>\n",
       "      <td>30873.287</td>\n",
       "      <td>39970.120</td>\n",
       "    </tr>\n",
       "    <tr>\n",
       "      <th>Cáliper +- 0.5</th>\n",
       "      <td>268.925</td>\n",
       "      <td>345.715</td>\n",
       "      <td>30307.792</td>\n",
       "      <td>39029.655</td>\n",
       "    </tr>\n",
       "  </tbody>\n",
       "</table>\n",
       "</div>"
      ],
      "text/plain": [
       "                Gasto Monetario Deflactado  Gasto Bruto Deflactado  \\\n",
       "Cáliper +- 2                       261.478                 341.017   \n",
       "Cáliper +- 1                       273.358                 353.704   \n",
       "Cáliper +- 0.5                     268.925                 345.715   \n",
       "\n",
       "                Gasto Monetario  Gasto Bruto  \n",
       "Cáliper +- 2          29613.338    38667.535  \n",
       "Cáliper +- 1          30873.287    39970.120  \n",
       "Cáliper +- 0.5        30307.792    39029.655  "
      ]
     },
     "execution_count": 19,
     "metadata": {},
     "output_type": "execute_result"
    }
   ],
   "source": [
    "table = np.zeros( ( 3, 4 ) )\n",
    "\n",
    "table[ 0 ] = [ linea_vul_1_gmd, linea_vul_1_gbd, linea_vul_1_gm, linea_vul_1_gb ]\n",
    "table[ 1 ] = [ linea_vul_2_gmd, linea_vul_2_gbd, linea_vul_2_gm, linea_vul_2_gb ]\n",
    "table[ 2 ] = [ linea_vul_3_gmd, linea_vul_3_gbd, linea_vul_3_gm, linea_vul_3_gb ]\n",
    "\n",
    "colnames = [ 'Gasto Monetario Deflactado', 'Gasto Bruto Deflactado', 'Gasto Monetario', 'Gasto Bruto' ]\n",
    "\n",
    "rownames = [ 'Cáliper +- 2', \n",
    "             'Cáliper +- 1', \n",
    "             'Cáliper +- 0.5' ]\n",
    "\n",
    "table_all = pd.DataFrame( table, columns = colnames )\n",
    "table_all.index = rownames\n",
    "\n",
    "table_all = table_all.round( 3 )\n",
    "table_all"
   ]
  },
  {
   "cell_type": "code",
   "execution_count": 20,
   "id": "1596e09b-1f8e-4bbe-b644-d67a4636e542",
   "metadata": {},
   "outputs": [],
   "source": [
    "table_all.to_excel( r'..\\..\\output\\ejecucion_2\\vl\\results\\base_19_21\\vl_1921.xlsx' )"
   ]
  }
 ],
 "metadata": {
  "kernelspec": {
   "display_name": "Python 3 (ipykernel)",
   "language": "python",
   "name": "python3"
  },
  "language_info": {
   "codemirror_mode": {
    "name": "ipython",
    "version": 3
   },
   "file_extension": ".py",
   "mimetype": "text/x-python",
   "name": "python",
   "nbconvert_exporter": "python",
   "pygments_lexer": "ipython3",
   "version": "3.9.13"
  }
 },
 "nbformat": 4,
 "nbformat_minor": 5
}
