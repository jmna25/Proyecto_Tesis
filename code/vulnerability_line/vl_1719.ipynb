{
 "cells": [
  {
   "cell_type": "markdown",
   "id": "4aae9323-694f-4976-9146-72010705c0fd",
   "metadata": {},
   "source": [
    "# BASE 1719"
   ]
  },
  {
   "cell_type": "markdown",
   "id": "ec0d6e3c-9e39-4fd9-8c58-2d17830f898b",
   "metadata": {},
   "source": [
    "Information:\n",
    "* Periodo: 2017-2019\n",
    "* Objetivo: predicción de pobreza"
   ]
  },
  {
   "cell_type": "markdown",
   "id": "d236ca29-9cac-467a-b71c-5ee069a0c66e",
   "metadata": {},
   "source": [
    "## 1. Importar datos y librerias"
   ]
  },
  {
   "cell_type": "code",
   "execution_count": 1,
   "id": "68aac77e-aa90-4248-8dbb-59b431514229",
   "metadata": {},
   "outputs": [],
   "source": [
    "import warnings\n",
    "warnings.filterwarnings( 'ignore' )"
   ]
  },
  {
   "cell_type": "code",
   "execution_count": 2,
   "id": "7568e757-1cfa-4417-8f45-1c2336d9c2cb",
   "metadata": {},
   "outputs": [],
   "source": [
    "import pandas as pd\n",
    "import numpy as np\n",
    "import pickle\n",
    "import joblib\n",
    "import matplotlib.pyplot as plt"
   ]
  },
  {
   "cell_type": "code",
   "execution_count": 3,
   "id": "aac33820-a19a-42ae-b3f9-a5c9bdc48abd",
   "metadata": {},
   "outputs": [],
   "source": [
    "path = r'..\\..\\input\\vl\\preprocessed_data\\base17_19_anualizada_hogares.csv'\n",
    "data_original = pd.read_csv( path )"
   ]
  },
  {
   "cell_type": "code",
   "execution_count": 4,
   "id": "e15a751c-0f40-48e0-9f7a-9b1d032ed535",
   "metadata": {},
   "outputs": [
    {
     "data": {
      "text/plain": [
       "(51578, 205)"
      ]
     },
     "execution_count": 4,
     "metadata": {},
     "output_type": "execute_result"
    }
   ],
   "source": [
    "data_original.shape"
   ]
  },
  {
   "cell_type": "code",
   "execution_count": 5,
   "id": "f138906c-5fa4-4c3d-affb-17310f25ea6d",
   "metadata": {},
   "outputs": [
    {
     "data": {
      "text/html": [
       "<div>\n",
       "<style scoped>\n",
       "    .dataframe tbody tr th:only-of-type {\n",
       "        vertical-align: middle;\n",
       "    }\n",
       "\n",
       "    .dataframe tbody tr th {\n",
       "        vertical-align: top;\n",
       "    }\n",
       "\n",
       "    .dataframe thead th {\n",
       "        text-align: right;\n",
       "    }\n",
       "</style>\n",
       "<table border=\"1\" class=\"dataframe\">\n",
       "  <thead>\n",
       "    <tr style=\"text-align: right;\">\n",
       "      <th></th>\n",
       "      <th>conglome</th>\n",
       "      <th>vivienda</th>\n",
       "      <th>hogar</th>\n",
       "      <th>p300a_t</th>\n",
       "      <th>p301a_t</th>\n",
       "      <th>p301d_t</th>\n",
       "      <th>p303_t</th>\n",
       "      <th>p306_t</th>\n",
       "      <th>p310_t</th>\n",
       "      <th>p310b1_t</th>\n",
       "      <th>...</th>\n",
       "      <th>gasto_monetario_deflactado</th>\n",
       "      <th>gasto_bruto_deflactado</th>\n",
       "      <th>gashog1d</th>\n",
       "      <th>gashog2d</th>\n",
       "      <th>region</th>\n",
       "      <th>n_personas_hogar</th>\n",
       "      <th>gasto_monetario_deflactado_pc_m</th>\n",
       "      <th>gasto_bruto_deflactado_pc_m</th>\n",
       "      <th>gashog1d_pc_m</th>\n",
       "      <th>gashog2d_pc_m</th>\n",
       "    </tr>\n",
       "  </thead>\n",
       "  <tbody>\n",
       "    <tr>\n",
       "      <th>0</th>\n",
       "      <td>5001</td>\n",
       "      <td>2</td>\n",
       "      <td>11</td>\n",
       "      <td>4.0</td>\n",
       "      <td>6.0</td>\n",
       "      <td>1.0</td>\n",
       "      <td>2.0</td>\n",
       "      <td>2.0</td>\n",
       "      <td>2.0</td>\n",
       "      <td>2.0</td>\n",
       "      <td>...</td>\n",
       "      <td>276.111500</td>\n",
       "      <td>368.075100</td>\n",
       "      <td>28682.766761</td>\n",
       "      <td>38236.044552</td>\n",
       "      <td>1</td>\n",
       "      <td>3</td>\n",
       "      <td>766.976420</td>\n",
       "      <td>1022.430844</td>\n",
       "      <td>796.743521</td>\n",
       "      <td>1062.112349</td>\n",
       "    </tr>\n",
       "    <tr>\n",
       "      <th>1</th>\n",
       "      <td>5001</td>\n",
       "      <td>6</td>\n",
       "      <td>11</td>\n",
       "      <td>4.0</td>\n",
       "      <td>11.0</td>\n",
       "      <td>2.0</td>\n",
       "      <td>2.0</td>\n",
       "      <td>2.0</td>\n",
       "      <td>2.0</td>\n",
       "      <td>2.0</td>\n",
       "      <td>...</td>\n",
       "      <td>26.488200</td>\n",
       "      <td>36.625626</td>\n",
       "      <td>24397.089844</td>\n",
       "      <td>33734.218750</td>\n",
       "      <td>1</td>\n",
       "      <td>2</td>\n",
       "      <td>110.367497</td>\n",
       "      <td>152.606773</td>\n",
       "      <td>1016.545410</td>\n",
       "      <td>1405.592448</td>\n",
       "    </tr>\n",
       "    <tr>\n",
       "      <th>2</th>\n",
       "      <td>5001</td>\n",
       "      <td>27</td>\n",
       "      <td>11</td>\n",
       "      <td>4.0</td>\n",
       "      <td>10.0</td>\n",
       "      <td>1.0</td>\n",
       "      <td>2.0</td>\n",
       "      <td>2.0</td>\n",
       "      <td>2.0</td>\n",
       "      <td>2.0</td>\n",
       "      <td>...</td>\n",
       "      <td>20.995142</td>\n",
       "      <td>25.917810</td>\n",
       "      <td>19337.681641</td>\n",
       "      <td>23871.730469</td>\n",
       "      <td>1</td>\n",
       "      <td>3</td>\n",
       "      <td>58.319839</td>\n",
       "      <td>71.993918</td>\n",
       "      <td>537.157823</td>\n",
       "      <td>663.103624</td>\n",
       "    </tr>\n",
       "    <tr>\n",
       "      <th>3</th>\n",
       "      <td>5001</td>\n",
       "      <td>35</td>\n",
       "      <td>11</td>\n",
       "      <td>4.0</td>\n",
       "      <td>3.0</td>\n",
       "      <td>1.0</td>\n",
       "      <td>2.0</td>\n",
       "      <td>2.0</td>\n",
       "      <td>2.0</td>\n",
       "      <td>2.0</td>\n",
       "      <td>...</td>\n",
       "      <td>64.939300</td>\n",
       "      <td>100.953470</td>\n",
       "      <td>6745.965384</td>\n",
       "      <td>10487.156982</td>\n",
       "      <td>1</td>\n",
       "      <td>2</td>\n",
       "      <td>270.580419</td>\n",
       "      <td>420.639451</td>\n",
       "      <td>281.081891</td>\n",
       "      <td>436.964874</td>\n",
       "    </tr>\n",
       "    <tr>\n",
       "      <th>4</th>\n",
       "      <td>5001</td>\n",
       "      <td>39</td>\n",
       "      <td>11</td>\n",
       "      <td>4.0</td>\n",
       "      <td>5.0</td>\n",
       "      <td>1.0</td>\n",
       "      <td>2.0</td>\n",
       "      <td>2.0</td>\n",
       "      <td>2.0</td>\n",
       "      <td>2.0</td>\n",
       "      <td>...</td>\n",
       "      <td>17.866785</td>\n",
       "      <td>23.087662</td>\n",
       "      <td>16456.292969</td>\n",
       "      <td>21265.007812</td>\n",
       "      <td>1</td>\n",
       "      <td>2</td>\n",
       "      <td>74.444938</td>\n",
       "      <td>96.198591</td>\n",
       "      <td>685.678874</td>\n",
       "      <td>886.041992</td>\n",
       "    </tr>\n",
       "    <tr>\n",
       "      <th>...</th>\n",
       "      <td>...</td>\n",
       "      <td>...</td>\n",
       "      <td>...</td>\n",
       "      <td>...</td>\n",
       "      <td>...</td>\n",
       "      <td>...</td>\n",
       "      <td>...</td>\n",
       "      <td>...</td>\n",
       "      <td>...</td>\n",
       "      <td>...</td>\n",
       "      <td>...</td>\n",
       "      <td>...</td>\n",
       "      <td>...</td>\n",
       "      <td>...</td>\n",
       "      <td>...</td>\n",
       "      <td>...</td>\n",
       "      <td>...</td>\n",
       "      <td>...</td>\n",
       "      <td>...</td>\n",
       "      <td>...</td>\n",
       "      <td>...</td>\n",
       "    </tr>\n",
       "    <tr>\n",
       "      <th>51573</th>\n",
       "      <td>11211</td>\n",
       "      <td>71</td>\n",
       "      <td>11</td>\n",
       "      <td>4.0</td>\n",
       "      <td>6.0</td>\n",
       "      <td>1.0</td>\n",
       "      <td>2.0</td>\n",
       "      <td>2.0</td>\n",
       "      <td>2.0</td>\n",
       "      <td>2.0</td>\n",
       "      <td>...</td>\n",
       "      <td>17.095543</td>\n",
       "      <td>24.429651</td>\n",
       "      <td>14148.613281</td>\n",
       "      <td>20218.468750</td>\n",
       "      <td>21</td>\n",
       "      <td>4</td>\n",
       "      <td>35.615714</td>\n",
       "      <td>50.895107</td>\n",
       "      <td>294.762777</td>\n",
       "      <td>421.218099</td>\n",
       "    </tr>\n",
       "    <tr>\n",
       "      <th>51574</th>\n",
       "      <td>11211</td>\n",
       "      <td>72</td>\n",
       "      <td>11</td>\n",
       "      <td>4.0</td>\n",
       "      <td>7.0</td>\n",
       "      <td>1.0</td>\n",
       "      <td>2.0</td>\n",
       "      <td>2.0</td>\n",
       "      <td>2.0</td>\n",
       "      <td>2.0</td>\n",
       "      <td>...</td>\n",
       "      <td>16.646461</td>\n",
       "      <td>22.894129</td>\n",
       "      <td>13776.945312</td>\n",
       "      <td>18947.638672</td>\n",
       "      <td>21</td>\n",
       "      <td>3</td>\n",
       "      <td>46.240171</td>\n",
       "      <td>63.594802</td>\n",
       "      <td>382.692925</td>\n",
       "      <td>526.323296</td>\n",
       "    </tr>\n",
       "    <tr>\n",
       "      <th>51575</th>\n",
       "      <td>11212</td>\n",
       "      <td>25</td>\n",
       "      <td>11</td>\n",
       "      <td>1.0</td>\n",
       "      <td>9.0</td>\n",
       "      <td>1.0</td>\n",
       "      <td>2.0</td>\n",
       "      <td>2.0</td>\n",
       "      <td>2.0</td>\n",
       "      <td>2.0</td>\n",
       "      <td>...</td>\n",
       "      <td>23.113714</td>\n",
       "      <td>26.006323</td>\n",
       "      <td>19129.373047</td>\n",
       "      <td>21523.353516</td>\n",
       "      <td>21</td>\n",
       "      <td>6</td>\n",
       "      <td>32.102381</td>\n",
       "      <td>36.119893</td>\n",
       "      <td>265.685737</td>\n",
       "      <td>298.935465</td>\n",
       "    </tr>\n",
       "    <tr>\n",
       "      <th>51576</th>\n",
       "      <td>11212</td>\n",
       "      <td>27</td>\n",
       "      <td>11</td>\n",
       "      <td>1.0</td>\n",
       "      <td>6.0</td>\n",
       "      <td>1.0</td>\n",
       "      <td>2.0</td>\n",
       "      <td>2.0</td>\n",
       "      <td>2.0</td>\n",
       "      <td>2.0</td>\n",
       "      <td>...</td>\n",
       "      <td>9.380392</td>\n",
       "      <td>12.160964</td>\n",
       "      <td>7763.399902</td>\n",
       "      <td>10064.657227</td>\n",
       "      <td>21</td>\n",
       "      <td>2</td>\n",
       "      <td>39.084967</td>\n",
       "      <td>50.670683</td>\n",
       "      <td>323.474996</td>\n",
       "      <td>419.360718</td>\n",
       "    </tr>\n",
       "    <tr>\n",
       "      <th>51577</th>\n",
       "      <td>11212</td>\n",
       "      <td>83</td>\n",
       "      <td>11</td>\n",
       "      <td>4.0</td>\n",
       "      <td>10.0</td>\n",
       "      <td>2.0</td>\n",
       "      <td>2.0</td>\n",
       "      <td>2.0</td>\n",
       "      <td>2.0</td>\n",
       "      <td>2.0</td>\n",
       "      <td>...</td>\n",
       "      <td>37.705720</td>\n",
       "      <td>41.292267</td>\n",
       "      <td>31206.007812</td>\n",
       "      <td>34174.304688</td>\n",
       "      <td>21</td>\n",
       "      <td>5</td>\n",
       "      <td>62.842865</td>\n",
       "      <td>68.820445</td>\n",
       "      <td>520.100130</td>\n",
       "      <td>569.571745</td>\n",
       "    </tr>\n",
       "  </tbody>\n",
       "</table>\n",
       "<p>51578 rows × 205 columns</p>\n",
       "</div>"
      ],
      "text/plain": [
       "       conglome  vivienda  hogar  p300a_t  p301a_t  p301d_t  p303_t  p306_t  \\\n",
       "0          5001         2     11      4.0      6.0      1.0     2.0     2.0   \n",
       "1          5001         6     11      4.0     11.0      2.0     2.0     2.0   \n",
       "2          5001        27     11      4.0     10.0      1.0     2.0     2.0   \n",
       "3          5001        35     11      4.0      3.0      1.0     2.0     2.0   \n",
       "4          5001        39     11      4.0      5.0      1.0     2.0     2.0   \n",
       "...         ...       ...    ...      ...      ...      ...     ...     ...   \n",
       "51573     11211        71     11      4.0      6.0      1.0     2.0     2.0   \n",
       "51574     11211        72     11      4.0      7.0      1.0     2.0     2.0   \n",
       "51575     11212        25     11      1.0      9.0      1.0     2.0     2.0   \n",
       "51576     11212        27     11      1.0      6.0      1.0     2.0     2.0   \n",
       "51577     11212        83     11      4.0     10.0      2.0     2.0     2.0   \n",
       "\n",
       "       p310_t  p310b1_t  ...  gasto_monetario_deflactado  \\\n",
       "0         2.0       2.0  ...                  276.111500   \n",
       "1         2.0       2.0  ...                   26.488200   \n",
       "2         2.0       2.0  ...                   20.995142   \n",
       "3         2.0       2.0  ...                   64.939300   \n",
       "4         2.0       2.0  ...                   17.866785   \n",
       "...       ...       ...  ...                         ...   \n",
       "51573     2.0       2.0  ...                   17.095543   \n",
       "51574     2.0       2.0  ...                   16.646461   \n",
       "51575     2.0       2.0  ...                   23.113714   \n",
       "51576     2.0       2.0  ...                    9.380392   \n",
       "51577     2.0       2.0  ...                   37.705720   \n",
       "\n",
       "       gasto_bruto_deflactado      gashog1d      gashog2d  region  \\\n",
       "0                  368.075100  28682.766761  38236.044552       1   \n",
       "1                   36.625626  24397.089844  33734.218750       1   \n",
       "2                   25.917810  19337.681641  23871.730469       1   \n",
       "3                  100.953470   6745.965384  10487.156982       1   \n",
       "4                   23.087662  16456.292969  21265.007812       1   \n",
       "...                       ...           ...           ...     ...   \n",
       "51573               24.429651  14148.613281  20218.468750      21   \n",
       "51574               22.894129  13776.945312  18947.638672      21   \n",
       "51575               26.006323  19129.373047  21523.353516      21   \n",
       "51576               12.160964   7763.399902  10064.657227      21   \n",
       "51577               41.292267  31206.007812  34174.304688      21   \n",
       "\n",
       "       n_personas_hogar  gasto_monetario_deflactado_pc_m  \\\n",
       "0                     3                       766.976420   \n",
       "1                     2                       110.367497   \n",
       "2                     3                        58.319839   \n",
       "3                     2                       270.580419   \n",
       "4                     2                        74.444938   \n",
       "...                 ...                              ...   \n",
       "51573                 4                        35.615714   \n",
       "51574                 3                        46.240171   \n",
       "51575                 6                        32.102381   \n",
       "51576                 2                        39.084967   \n",
       "51577                 5                        62.842865   \n",
       "\n",
       "       gasto_bruto_deflactado_pc_m  gashog1d_pc_m  gashog2d_pc_m  \n",
       "0                      1022.430844     796.743521    1062.112349  \n",
       "1                       152.606773    1016.545410    1405.592448  \n",
       "2                        71.993918     537.157823     663.103624  \n",
       "3                       420.639451     281.081891     436.964874  \n",
       "4                        96.198591     685.678874     886.041992  \n",
       "...                            ...            ...            ...  \n",
       "51573                    50.895107     294.762777     421.218099  \n",
       "51574                    63.594802     382.692925     526.323296  \n",
       "51575                    36.119893     265.685737     298.935465  \n",
       "51576                    50.670683     323.474996     419.360718  \n",
       "51577                    68.820445     520.100130     569.571745  \n",
       "\n",
       "[51578 rows x 205 columns]"
      ]
     },
     "execution_count": 5,
     "metadata": {},
     "output_type": "execute_result"
    }
   ],
   "source": [
    "data_original"
   ]
  },
  {
   "cell_type": "markdown",
   "id": "0c77baf7-211c-4260-807a-d0724c8a915b",
   "metadata": {},
   "source": [
    "### 2. Preprocesar datos"
   ]
  },
  {
   "cell_type": "code",
   "execution_count": 6,
   "id": "1caaafd3-484a-49fe-877e-f4ae2b4acc08",
   "metadata": {},
   "outputs": [],
   "source": [
    "# # Imputación de valores del gasto del percentil 1% superior con valores del percentil 99\n",
    "\n",
    "# percentil_superior = 0.01\n",
    "# perc = data_original[ 'gasto_deflactado' ].quantile( 1 - percentil_superior )\n",
    "# data.loc[ data_original [ 'gasto_deflactado' ] > perc, 'gasto_deflactado' ] = perc"
   ]
  },
  {
   "cell_type": "code",
   "execution_count": 7,
   "id": "9ad7d859-6424-44b1-bef8-2efcb8093a61",
   "metadata": {},
   "outputs": [],
   "source": [
    "next_vars = [ 'gasto_monetario_deflactado_pc_m', 'gasto_bruto_deflactado_pc_m', \n",
    "              'region', 'conglome',\t'vivienda',\t'hogar', 'gashog1d_pc_m', \n",
    "              'gashog2d_pc_m', 'n_personas_hogar', \n",
    "              'gasto_monetario_deflactado', 'gasto_bruto_deflactado',\n",
    "              'gashog1d', 'gashog2d' ]\n",
    "data      = data_original.drop(  next_vars , axis = 1 )"
   ]
  },
  {
   "cell_type": "code",
   "execution_count": 8,
   "id": "f0105576-aa45-4980-933e-af002a2cb7b6",
   "metadata": {},
   "outputs": [],
   "source": [
    "data = data.rename(columns = { 'ocu500_t_2': 'ocu500_t_2.0', \n",
    "                               'ocu500_t_1': 'ocu500_t_1.0',\n",
    "                               'ocu500_t_4': 'ocu500_t_4.0',\n",
    "                               'ocu500_t_3': 'ocu500_t_3.0',\n",
    "                               'ocu500_t_0': 'ocu500_t_0.0' } )"
   ]
  },
  {
   "cell_type": "markdown",
   "id": "56fb1f55-6c3a-4987-8e05-94b12c88978b",
   "metadata": {},
   "source": [
    "### 3. Importar modelos entrenados y predecir"
   ]
  },
  {
   "cell_type": "code",
   "execution_count": 9,
   "id": "5fa5c9b6-10af-485d-9969-837baa0d4d76",
   "metadata": {
    "collapsed": true,
    "jupyter": {
     "outputs_hidden": true
    },
    "tags": []
   },
   "outputs": [
    {
     "ename": "KeyError",
     "evalue": "255",
     "output_type": "error",
     "traceback": [
      "\u001b[1;31m---------------------------------------------------------------------------\u001b[0m",
      "\u001b[1;31mKeyError\u001b[0m                                  Traceback (most recent call last)",
      "\u001b[1;32m~\\AppData\\Local\\Temp\\ipykernel_16088\\244303035.py\u001b[0m in \u001b[0;36m<module>\u001b[1;34m\u001b[0m\n\u001b[1;32m----> 1\u001b[1;33m \u001b[0mxgb_optimal_model_o\u001b[0m \u001b[1;33m=\u001b[0m \u001b[0mjoblib\u001b[0m\u001b[1;33m.\u001b[0m\u001b[0mload\u001b[0m\u001b[1;33m(\u001b[0m \u001b[1;34mr'..\\..\\output\\ejecucion_2\\models\\base_17_19\\base_17_19_xgb_nrs.joblib'\u001b[0m \u001b[1;33m)\u001b[0m\u001b[1;33m\u001b[0m\u001b[1;33m\u001b[0m\u001b[0m\n\u001b[0m\u001b[0;32m      2\u001b[0m \u001b[1;33m\u001b[0m\u001b[0m\n\u001b[0;32m      3\u001b[0m \u001b[0my_xgb_pred_class_o\u001b[0m  \u001b[1;33m=\u001b[0m \u001b[0mxgb_optimal_model_o\u001b[0m\u001b[1;33m.\u001b[0m\u001b[0mpredict\u001b[0m\u001b[1;33m(\u001b[0m \u001b[0mdata\u001b[0m \u001b[1;33m)\u001b[0m\u001b[1;33m\u001b[0m\u001b[1;33m\u001b[0m\u001b[0m\n\u001b[0;32m      4\u001b[0m \u001b[0my_xgb_pred_prob_o\u001b[0m   \u001b[1;33m=\u001b[0m \u001b[0mxgb_optimal_model_o\u001b[0m\u001b[1;33m.\u001b[0m\u001b[0mpredict_proba\u001b[0m\u001b[1;33m(\u001b[0m \u001b[0mdata\u001b[0m \u001b[1;33m)\u001b[0m\u001b[1;33m[\u001b[0m \u001b[1;33m:\u001b[0m\u001b[1;33m,\u001b[0m \u001b[1;36m1\u001b[0m \u001b[1;33m]\u001b[0m\u001b[1;33m\u001b[0m\u001b[1;33m\u001b[0m\u001b[0m\n",
      "\u001b[1;32mC:\\Anaconda\\lib\\site-packages\\joblib\\numpy_pickle.py\u001b[0m in \u001b[0;36mload\u001b[1;34m(filename, mmap_mode)\u001b[0m\n\u001b[0;32m    585\u001b[0m                     \u001b[1;32mreturn\u001b[0m \u001b[0mload_compatibility\u001b[0m\u001b[1;33m(\u001b[0m\u001b[0mfobj\u001b[0m\u001b[1;33m)\u001b[0m\u001b[1;33m\u001b[0m\u001b[1;33m\u001b[0m\u001b[0m\n\u001b[0;32m    586\u001b[0m \u001b[1;33m\u001b[0m\u001b[0m\n\u001b[1;32m--> 587\u001b[1;33m                 \u001b[0mobj\u001b[0m \u001b[1;33m=\u001b[0m \u001b[0m_unpickle\u001b[0m\u001b[1;33m(\u001b[0m\u001b[0mfobj\u001b[0m\u001b[1;33m,\u001b[0m \u001b[0mfilename\u001b[0m\u001b[1;33m,\u001b[0m \u001b[0mmmap_mode\u001b[0m\u001b[1;33m)\u001b[0m\u001b[1;33m\u001b[0m\u001b[1;33m\u001b[0m\u001b[0m\n\u001b[0m\u001b[0;32m    588\u001b[0m     \u001b[1;32mreturn\u001b[0m \u001b[0mobj\u001b[0m\u001b[1;33m\u001b[0m\u001b[1;33m\u001b[0m\u001b[0m\n",
      "\u001b[1;32mC:\\Anaconda\\lib\\site-packages\\joblib\\numpy_pickle.py\u001b[0m in \u001b[0;36m_unpickle\u001b[1;34m(fobj, filename, mmap_mode)\u001b[0m\n\u001b[0;32m    504\u001b[0m     \u001b[0mobj\u001b[0m \u001b[1;33m=\u001b[0m \u001b[1;32mNone\u001b[0m\u001b[1;33m\u001b[0m\u001b[1;33m\u001b[0m\u001b[0m\n\u001b[0;32m    505\u001b[0m     \u001b[1;32mtry\u001b[0m\u001b[1;33m:\u001b[0m\u001b[1;33m\u001b[0m\u001b[1;33m\u001b[0m\u001b[0m\n\u001b[1;32m--> 506\u001b[1;33m         \u001b[0mobj\u001b[0m \u001b[1;33m=\u001b[0m \u001b[0munpickler\u001b[0m\u001b[1;33m.\u001b[0m\u001b[0mload\u001b[0m\u001b[1;33m(\u001b[0m\u001b[1;33m)\u001b[0m\u001b[1;33m\u001b[0m\u001b[1;33m\u001b[0m\u001b[0m\n\u001b[0m\u001b[0;32m    507\u001b[0m         \u001b[1;32mif\u001b[0m \u001b[0munpickler\u001b[0m\u001b[1;33m.\u001b[0m\u001b[0mcompat_mode\u001b[0m\u001b[1;33m:\u001b[0m\u001b[1;33m\u001b[0m\u001b[1;33m\u001b[0m\u001b[0m\n\u001b[0;32m    508\u001b[0m             warnings.warn(\"The file '%s' has been generated with a \"\n",
      "\u001b[1;32mC:\\Anaconda\\lib\\pickle.py\u001b[0m in \u001b[0;36mload\u001b[1;34m(self)\u001b[0m\n\u001b[0;32m   1210\u001b[0m                     \u001b[1;32mraise\u001b[0m \u001b[0mEOFError\u001b[0m\u001b[1;33m\u001b[0m\u001b[1;33m\u001b[0m\u001b[0m\n\u001b[0;32m   1211\u001b[0m                 \u001b[1;32massert\u001b[0m \u001b[0misinstance\u001b[0m\u001b[1;33m(\u001b[0m\u001b[0mkey\u001b[0m\u001b[1;33m,\u001b[0m \u001b[0mbytes_types\u001b[0m\u001b[1;33m)\u001b[0m\u001b[1;33m\u001b[0m\u001b[1;33m\u001b[0m\u001b[0m\n\u001b[1;32m-> 1212\u001b[1;33m                 \u001b[0mdispatch\u001b[0m\u001b[1;33m[\u001b[0m\u001b[0mkey\u001b[0m\u001b[1;33m[\u001b[0m\u001b[1;36m0\u001b[0m\u001b[1;33m]\u001b[0m\u001b[1;33m]\u001b[0m\u001b[1;33m(\u001b[0m\u001b[0mself\u001b[0m\u001b[1;33m)\u001b[0m\u001b[1;33m\u001b[0m\u001b[1;33m\u001b[0m\u001b[0m\n\u001b[0m\u001b[0;32m   1213\u001b[0m         \u001b[1;32mexcept\u001b[0m \u001b[0m_Stop\u001b[0m \u001b[1;32mas\u001b[0m \u001b[0mstopinst\u001b[0m\u001b[1;33m:\u001b[0m\u001b[1;33m\u001b[0m\u001b[1;33m\u001b[0m\u001b[0m\n\u001b[0;32m   1214\u001b[0m             \u001b[1;32mreturn\u001b[0m \u001b[0mstopinst\u001b[0m\u001b[1;33m.\u001b[0m\u001b[0mvalue\u001b[0m\u001b[1;33m\u001b[0m\u001b[1;33m\u001b[0m\u001b[0m\n",
      "\u001b[1;31mKeyError\u001b[0m: 255"
     ]
    }
   ],
   "source": [
    "xgb_optimal_model_o = joblib.load( r'..\\..\\output\\ejecucion_2\\models\\base_17_19\\base_17_19_xgb_nrs.joblib' )\n",
    "\n",
    "y_xgb_pred_class_o  = xgb_optimal_model_o.predict( data )\n",
    "y_xgb_pred_prob_o   = xgb_optimal_model_o.predict_proba( data )[ :, 1 ]"
   ]
  },
  {
   "cell_type": "code",
   "execution_count": 10,
   "id": "1df5dec3-370a-4144-b2b3-b861c2e5b854",
   "metadata": {},
   "outputs": [
    {
     "data": {
      "text/plain": [
       "array([0.03666018, 0.2471458 , 0.47371936, ..., 0.02759312, 0.0020578 ,\n",
       "       0.00633319], dtype=float32)"
      ]
     },
     "execution_count": 10,
     "metadata": {},
     "output_type": "execute_result"
    }
   ],
   "source": [
    "y_xgb_pred_prob_o"
   ]
  },
  {
   "cell_type": "markdown",
   "id": "bd80a62d-73f7-46b5-b5a5-b30d498fe4ce",
   "metadata": {},
   "source": [
    "### 4. Identificar hogares vulnerables"
   ]
  },
  {
   "cell_type": "code",
   "execution_count": 11,
   "id": "991febd5-2f0c-4566-bfea-fde8efec6b3f",
   "metadata": {
    "tags": []
   },
   "outputs": [],
   "source": [
    "data_completa = data_original.copy( deep = True )\n",
    "\n",
    "data_completa[ 'class_pobreza' ] = y_xgb_pred_class_o\n",
    "data_completa[ 'prob_pobreza' ]  = y_xgb_pred_prob_o"
   ]
  },
  {
   "cell_type": "code",
   "execution_count": 12,
   "id": "62242f17-52a6-4dc4-8535-6de106b1f532",
   "metadata": {},
   "outputs": [
    {
     "data": {
      "text/plain": [
       "0    71.513902\n",
       "1    28.486098\n",
       "Name: class_pobreza, dtype: float64"
      ]
     },
     "execution_count": 12,
     "metadata": {},
     "output_type": "execute_result"
    }
   ],
   "source": [
    "data_completa[ 'class_pobreza' ].value_counts( normalize = True )*100"
   ]
  },
  {
   "cell_type": "code",
   "execution_count": 13,
   "id": "553aa339-2432-4304-a022-23c6d3708e22",
   "metadata": {},
   "outputs": [
    {
     "data": {
      "text/plain": [
       "0        0.036660\n",
       "1        0.247146\n",
       "2        0.473719\n",
       "3        0.748970\n",
       "4        0.153644\n",
       "           ...   \n",
       "28121    0.171063\n",
       "28122    0.004022\n",
       "28123    0.027593\n",
       "28124    0.002058\n",
       "28125    0.006333\n",
       "Name: prob_pobreza, Length: 28126, dtype: float32"
      ]
     },
     "execution_count": 13,
     "metadata": {},
     "output_type": "execute_result"
    }
   ],
   "source": [
    "data_completa[ 'prob_pobreza' ]"
   ]
  },
  {
   "cell_type": "code",
   "execution_count": 14,
   "id": "56909871-760d-4604-9ad1-8455d990e23e",
   "metadata": {},
   "outputs": [
    {
     "data": {
      "image/png": "[encoded data removed]",
      "text/plain": [
       "<Figure size 640x480 with 1 Axes>"
      ]
     },
     "metadata": {},
     "output_type": "display_data"
    }
   ],
   "source": [
    "plt.hist( data_completa[ 'prob_pobreza' ], \n",
    "          bins = 20, \n",
    "          range = (0, 1), \n",
    "          edgecolor = 'black' )\n",
    "\n",
    "plt.xlabel('Probabilidad')\n",
    "plt.ylabel('Frecuencia')\n",
    "plt.title('Distribución de la variable \"Probabilidad de caer en pobreza\" \\npara el periodo 2017-2019')\n",
    "\n",
    "plt.savefig( r'..\\..\\output\\ejecucion_2\\vl\\plots\\base_17_19\\barplot_prob_1719.jpg', \n",
    "             format = 'jpg' )\n",
    "\n",
    "plt.show()"
   ]
  },
  {
   "cell_type": "markdown",
   "id": "c542b60a-3665-442a-b6cf-c7a876342e82",
   "metadata": {},
   "source": [
    "Se considera distintas amplitudes de caliper: \n",
    "* 1: +-   2\n",
    "* 2: +-   1\n",
    "* 3: +- 0.5\n",
    "\n",
    "Umbral de vulnerabilidade del periodo 2017-2019: \n",
    "* Valor real: 10.45\n",
    "* Valor redondeado: 10"
   ]
  },
  {
   "cell_type": "code",
   "execution_count": 15,
   "id": "570c1c2f-1659-4396-84ec-ef3672bfd9bf",
   "metadata": {},
   "outputs": [],
   "source": [
    "limite_min_1 = 0.080\n",
    "limite_max_1 = 0.120\n",
    "\n",
    "limite_min_2 = 0.090\n",
    "limite_max_2 = 0.110\n",
    "\n",
    "limite_min_3 = 0.095\n",
    "limite_max_3 = 0.105\n",
    "\n",
    "hogares_vulnerables_1 = data_completa[ ( data_completa[ 'prob_pobreza' ] >= limite_min_1 ) & ( data_completa[ 'prob_pobreza' ] <= limite_max_1 ) ]\n",
    "hogares_vulnerables_2 = data_completa[ ( data_completa[ 'prob_pobreza' ] >= limite_min_2 ) & ( data_completa[ 'prob_pobreza' ] <= limite_max_2 ) ]\n",
    "hogares_vulnerables_3 = data_completa[ ( data_completa[ 'prob_pobreza' ] >= limite_min_3 ) & ( data_completa[ 'prob_pobreza' ] <= limite_max_3 ) ]"
   ]
  },
  {
   "cell_type": "markdown",
   "id": "ecbf0d6b-457d-41b6-981f-403f5b9fa362",
   "metadata": {},
   "source": [
    "### 5. Calcular la línea de vulnerabilidad"
   ]
  },
  {
   "cell_type": "code",
   "execution_count": 16,
   "id": "e5204ff6-379f-4680-b29d-8ccaf7e9b2f1",
   "metadata": {},
   "outputs": [],
   "source": [
    "linea_vul_1_gmd = hogares_vulnerables_1[ 'gasto_monetario_deflactado_pc_m' ].mean()\n",
    "linea_vul_1_gbd = hogares_vulnerables_1[ 'gasto_bruto_deflactado_pc_m' ].mean()\n",
    "linea_vul_1_gm  = hogares_vulnerables_1[ 'gashog1d_pc_m' ].mean()\n",
    "linea_vul_1_gb  = hogares_vulnerables_1[ 'gashog2d_pc_m' ].mean()"
   ]
  },
  {
   "cell_type": "code",
   "execution_count": 17,
   "id": "1933536f-a7d0-47ba-aaa5-0474f378fcd5",
   "metadata": {},
   "outputs": [],
   "source": [
    "linea_vul_2_gmd = hogares_vulnerables_2[ 'gasto_monetario_deflactado_pc_m' ].mean()\n",
    "linea_vul_2_gbd = hogares_vulnerables_2[ 'gasto_bruto_deflactado_pc_m' ].mean()\n",
    "linea_vul_2_gm  = hogares_vulnerables_2[ 'gashog1d_pc_m' ].mean()\n",
    "linea_vul_2_gb  = hogares_vulnerables_2[ 'gashog2d_pc_m' ].mean()"
   ]
  },
  {
   "cell_type": "code",
   "execution_count": 18,
   "id": "ba64294b-5794-4186-b7e8-ca6a112c663d",
   "metadata": {},
   "outputs": [],
   "source": [
    "linea_vul_3_gmd = hogares_vulnerables_3[ 'gasto_monetario_deflactado_pc_m' ].mean()\n",
    "linea_vul_3_gbd = hogares_vulnerables_3[ 'gasto_bruto_deflactado_pc_m' ].mean()\n",
    "linea_vul_3_gm  = hogares_vulnerables_3[ 'gashog1d_pc_m' ].mean()\n",
    "linea_vul_3_gb  = hogares_vulnerables_3[ 'gashog2d_pc_m' ].mean()"
   ]
  },
  {
   "cell_type": "code",
   "execution_count": 19,
   "id": "a28c3299-536d-4862-9307-a43f2259a8e7",
   "metadata": {},
   "outputs": [
    {
     "data": {
      "text/html": [
       "<div>\n",
       "<style scoped>\n",
       "    .dataframe tbody tr th:only-of-type {\n",
       "        vertical-align: middle;\n",
       "    }\n",
       "\n",
       "    .dataframe tbody tr th {\n",
       "        vertical-align: top;\n",
       "    }\n",
       "\n",
       "    .dataframe thead th {\n",
       "        text-align: right;\n",
       "    }\n",
       "</style>\n",
       "<table border=\"1\" class=\"dataframe\">\n",
       "  <thead>\n",
       "    <tr style=\"text-align: right;\">\n",
       "      <th></th>\n",
       "      <th>Gasto Monetario Deflactado</th>\n",
       "      <th>Gasto Bruto Deflactado</th>\n",
       "      <th>Gasto Monetario</th>\n",
       "      <th>Gasto Bruto</th>\n",
       "    </tr>\n",
       "  </thead>\n",
       "  <tbody>\n",
       "    <tr>\n",
       "      <th>Cáliper +- 2</th>\n",
       "      <td>668.433</td>\n",
       "      <td>876.051</td>\n",
       "      <td>725.143</td>\n",
       "      <td>950.067</td>\n",
       "    </tr>\n",
       "    <tr>\n",
       "      <th>Cáliper +- 1</th>\n",
       "      <td>661.396</td>\n",
       "      <td>867.167</td>\n",
       "      <td>717.670</td>\n",
       "      <td>940.507</td>\n",
       "    </tr>\n",
       "    <tr>\n",
       "      <th>Cáliper +- 0.5</th>\n",
       "      <td>665.543</td>\n",
       "      <td>863.176</td>\n",
       "      <td>718.587</td>\n",
       "      <td>932.248</td>\n",
       "    </tr>\n",
       "  </tbody>\n",
       "</table>\n",
       "</div>"
      ],
      "text/plain": [
       "                Gasto Monetario Deflactado  Gasto Bruto Deflactado  \\\n",
       "Cáliper +- 2                       668.433                 876.051   \n",
       "Cáliper +- 1                       661.396                 867.167   \n",
       "Cáliper +- 0.5                     665.543                 863.176   \n",
       "\n",
       "                Gasto Monetario  Gasto Bruto  \n",
       "Cáliper +- 2            725.143      950.067  \n",
       "Cáliper +- 1            717.670      940.507  \n",
       "Cáliper +- 0.5          718.587      932.248  "
      ]
     },
     "execution_count": 19,
     "metadata": {},
     "output_type": "execute_result"
    }
   ],
   "source": [
    "table = np.zeros( ( 3, 4 ) )\n",
    "\n",
    "table[ 0 ] = [ linea_vul_1_gmd, linea_vul_1_gbd, linea_vul_1_gm, linea_vul_1_gb ]\n",
    "table[ 1 ] = [ linea_vul_2_gmd, linea_vul_2_gbd, linea_vul_2_gm, linea_vul_2_gb ]\n",
    "table[ 2 ] = [ linea_vul_3_gmd, linea_vul_3_gbd, linea_vul_3_gm, linea_vul_3_gb ]\n",
    "\n",
    "colnames = [ 'Gasto Monetario Deflactado', 'Gasto Bruto Deflactado', 'Gasto Monetario', 'Gasto Bruto' ]\n",
    "\n",
    "rownames = [ 'Cáliper +- 2', \n",
    "             'Cáliper +- 1', \n",
    "             'Cáliper +- 0.5' ]\n",
    "\n",
    "table_all = pd.DataFrame( table, columns = colnames )\n",
    "table_all.index = rownames\n",
    "\n",
    "table_all = table_all.round( 3 )\n",
    "table_all"
   ]
  },
  {
   "cell_type": "code",
   "execution_count": 20,
   "id": "1f503bbc-0942-49e3-927a-b3ab665b2207",
   "metadata": {},
   "outputs": [],
   "source": [
    "table_all.to_excel( r'..\\..\\output\\ejecucion_2\\vl\\results\\base_17_19\\vl_1719.xlsx' )"
   ]
  }
 ],
 "metadata": {
  "kernelspec": {
   "display_name": "Python 3 (ipykernel)",
   "language": "python",
   "name": "python3"
  },
  "language_info": {
   "codemirror_mode": {
    "name": "ipython",
    "version": 3
   },
   "file_extension": ".py",
   "mimetype": "text/x-python",
   "name": "python",
   "nbconvert_exporter": "python",
   "pygments_lexer": "ipython3",
   "version": "3.9.13"
  }
 },
 "nbformat": 4,
 "nbformat_minor": 5
}
