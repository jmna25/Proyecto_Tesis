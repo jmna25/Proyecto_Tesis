{
 "cells": [
  {
   "cell_type": "markdown",
   "id": "4aae9323-694f-4976-9146-72010705c0fd",
   "metadata": {},
   "source": [
    "# BASE 1719"
   ]
  },
  {
   "cell_type": "markdown",
   "id": "ec0d6e3c-9e39-4fd9-8c58-2d17830f898b",
   "metadata": {},
   "source": [
    "Information:\n",
    "* Periodo: 2017-2019\n",
    "* Objetivo: predicción de pobreza"
   ]
  },
  {
   "cell_type": "markdown",
   "id": "d236ca29-9cac-467a-b71c-5ee069a0c66e",
   "metadata": {},
   "source": [
    "## 1. Importar datos y librerias"
   ]
  },
  {
   "cell_type": "code",
   "execution_count": 1,
   "id": "68aac77e-aa90-4248-8dbb-59b431514229",
   "metadata": {},
   "outputs": [],
   "source": [
    "import warnings\n",
    "warnings.filterwarnings( 'ignore' )"
   ]
  },
  {
   "cell_type": "code",
   "execution_count": 2,
   "id": "7568e757-1cfa-4417-8f45-1c2336d9c2cb",
   "metadata": {},
   "outputs": [],
   "source": [
    "import pandas as pd\n",
    "import numpy as np\n",
    "import pickle\n",
    "import joblib"
   ]
  },
  {
   "cell_type": "code",
   "execution_count": 3,
   "id": "a9be3529-3dfb-44f6-b43f-f2bb181f29da",
   "metadata": {},
   "outputs": [],
   "source": [
    "import variables_nombres as vn"
   ]
  },
  {
   "cell_type": "code",
   "execution_count": 4,
   "id": "aac33820-a19a-42ae-b3f9-a5c9bdc48abd",
   "metadata": {},
   "outputs": [],
   "source": [
    "path = r'..\\..\\input\\vl\\preprocessed_data\\base17_19_anualizada_hogares.dta'\n",
    "data_original = pd.read_csv( path )"
   ]
  },
  {
   "cell_type": "code",
   "execution_count": 5,
   "id": "e15a751c-0f40-48e0-9f7a-9b1d032ed535",
   "metadata": {},
   "outputs": [
    {
     "data": {
      "text/plain": [
       "(34584, 198)"
      ]
     },
     "execution_count": 5,
     "metadata": {},
     "output_type": "execute_result"
    }
   ],
   "source": [
    "data_original.shape"
   ]
  },
  {
   "cell_type": "code",
   "execution_count": 6,
   "id": "70c378ef-7d55-40ab-a986-cf0589eab471",
   "metadata": {},
   "outputs": [
    {
     "data": {
      "text/plain": [
       "0         1\n",
       "1         1\n",
       "2         1\n",
       "3         1\n",
       "4         1\n",
       "         ..\n",
       "34579    23\n",
       "34580    23\n",
       "34581    23\n",
       "34582    23\n",
       "34583    23\n",
       "Name: region, Length: 34584, dtype: int64"
      ]
     },
     "execution_count": 6,
     "metadata": {},
     "output_type": "execute_result"
    }
   ],
   "source": [
    "data_original[ 'region' ]"
   ]
  },
  {
   "cell_type": "code",
   "execution_count": 7,
   "id": "c6b39a0b-6d30-4dd9-989e-f4085342a05c",
   "metadata": {},
   "outputs": [
    {
     "data": {
      "text/html": [
       "<div>\n",
       "<style scoped>\n",
       "    .dataframe tbody tr th:only-of-type {\n",
       "        vertical-align: middle;\n",
       "    }\n",
       "\n",
       "    .dataframe tbody tr th {\n",
       "        vertical-align: top;\n",
       "    }\n",
       "\n",
       "    .dataframe thead th {\n",
       "        text-align: right;\n",
       "    }\n",
       "</style>\n",
       "<table border=\"1\" class=\"dataframe\">\n",
       "  <thead>\n",
       "    <tr style=\"text-align: right;\">\n",
       "      <th></th>\n",
       "      <th>conglome</th>\n",
       "      <th>vivienda</th>\n",
       "      <th>hogar</th>\n",
       "      <th>p300a_t</th>\n",
       "      <th>p301a_t</th>\n",
       "      <th>p301d_t</th>\n",
       "      <th>p303_t</th>\n",
       "      <th>p306_t</th>\n",
       "      <th>p310_t</th>\n",
       "      <th>p310b1_t</th>\n",
       "      <th>...</th>\n",
       "      <th>p1175_10_t</th>\n",
       "      <th>p1175_11_t</th>\n",
       "      <th>p1175_12_t</th>\n",
       "      <th>p1175_13_t</th>\n",
       "      <th>p1175_14_t</th>\n",
       "      <th>p1175_15_t</th>\n",
       "      <th>t110_t</th>\n",
       "      <th>gasto_monetario_deflactado</th>\n",
       "      <th>gasto_bruto_deflactado</th>\n",
       "      <th>region</th>\n",
       "    </tr>\n",
       "  </thead>\n",
       "  <tbody>\n",
       "    <tr>\n",
       "      <th>0</th>\n",
       "      <td>5001</td>\n",
       "      <td>2</td>\n",
       "      <td>11</td>\n",
       "      <td>4.0</td>\n",
       "      <td>6.0</td>\n",
       "      <td>1.0</td>\n",
       "      <td>2.0</td>\n",
       "      <td>2.0</td>\n",
       "      <td>2.0</td>\n",
       "      <td>2.0</td>\n",
       "      <td>...</td>\n",
       "      <td>0</td>\n",
       "      <td>0</td>\n",
       "      <td>0</td>\n",
       "      <td>0</td>\n",
       "      <td>0</td>\n",
       "      <td>0</td>\n",
       "      <td>2</td>\n",
       "      <td>276.111500</td>\n",
       "      <td>368.075100</td>\n",
       "      <td>1</td>\n",
       "    </tr>\n",
       "    <tr>\n",
       "      <th>1</th>\n",
       "      <td>5001</td>\n",
       "      <td>23</td>\n",
       "      <td>11</td>\n",
       "      <td>4.0</td>\n",
       "      <td>5.0</td>\n",
       "      <td>1.0</td>\n",
       "      <td>2.0</td>\n",
       "      <td>2.0</td>\n",
       "      <td>2.0</td>\n",
       "      <td>2.0</td>\n",
       "      <td>...</td>\n",
       "      <td>0</td>\n",
       "      <td>0</td>\n",
       "      <td>0</td>\n",
       "      <td>0</td>\n",
       "      <td>0</td>\n",
       "      <td>2</td>\n",
       "      <td>1</td>\n",
       "      <td>88.087260</td>\n",
       "      <td>125.934160</td>\n",
       "      <td>1</td>\n",
       "    </tr>\n",
       "    <tr>\n",
       "      <th>2</th>\n",
       "      <td>5001</td>\n",
       "      <td>35</td>\n",
       "      <td>11</td>\n",
       "      <td>4.0</td>\n",
       "      <td>3.0</td>\n",
       "      <td>1.0</td>\n",
       "      <td>2.0</td>\n",
       "      <td>2.0</td>\n",
       "      <td>2.0</td>\n",
       "      <td>2.0</td>\n",
       "      <td>...</td>\n",
       "      <td>0</td>\n",
       "      <td>0</td>\n",
       "      <td>0</td>\n",
       "      <td>0</td>\n",
       "      <td>0</td>\n",
       "      <td>2</td>\n",
       "      <td>1</td>\n",
       "      <td>64.939300</td>\n",
       "      <td>100.953470</td>\n",
       "      <td>1</td>\n",
       "    </tr>\n",
       "    <tr>\n",
       "      <th>3</th>\n",
       "      <td>5001</td>\n",
       "      <td>46</td>\n",
       "      <td>11</td>\n",
       "      <td>4.0</td>\n",
       "      <td>6.0</td>\n",
       "      <td>1.0</td>\n",
       "      <td>2.0</td>\n",
       "      <td>2.0</td>\n",
       "      <td>2.0</td>\n",
       "      <td>2.0</td>\n",
       "      <td>...</td>\n",
       "      <td>0</td>\n",
       "      <td>0</td>\n",
       "      <td>0</td>\n",
       "      <td>0</td>\n",
       "      <td>0</td>\n",
       "      <td>2</td>\n",
       "      <td>2</td>\n",
       "      <td>143.894700</td>\n",
       "      <td>286.947780</td>\n",
       "      <td>1</td>\n",
       "    </tr>\n",
       "    <tr>\n",
       "      <th>4</th>\n",
       "      <td>5001</td>\n",
       "      <td>67</td>\n",
       "      <td>11</td>\n",
       "      <td>4.0</td>\n",
       "      <td>3.0</td>\n",
       "      <td>1.0</td>\n",
       "      <td>2.0</td>\n",
       "      <td>2.0</td>\n",
       "      <td>2.0</td>\n",
       "      <td>2.0</td>\n",
       "      <td>...</td>\n",
       "      <td>0</td>\n",
       "      <td>0</td>\n",
       "      <td>0</td>\n",
       "      <td>0</td>\n",
       "      <td>0</td>\n",
       "      <td>0</td>\n",
       "      <td>2</td>\n",
       "      <td>59.929256</td>\n",
       "      <td>66.743935</td>\n",
       "      <td>1</td>\n",
       "    </tr>\n",
       "    <tr>\n",
       "      <th>...</th>\n",
       "      <td>...</td>\n",
       "      <td>...</td>\n",
       "      <td>...</td>\n",
       "      <td>...</td>\n",
       "      <td>...</td>\n",
       "      <td>...</td>\n",
       "      <td>...</td>\n",
       "      <td>...</td>\n",
       "      <td>...</td>\n",
       "      <td>...</td>\n",
       "      <td>...</td>\n",
       "      <td>...</td>\n",
       "      <td>...</td>\n",
       "      <td>...</td>\n",
       "      <td>...</td>\n",
       "      <td>...</td>\n",
       "      <td>...</td>\n",
       "      <td>...</td>\n",
       "      <td>...</td>\n",
       "      <td>...</td>\n",
       "      <td>...</td>\n",
       "    </tr>\n",
       "    <tr>\n",
       "      <th>34579</th>\n",
       "      <td>10801</td>\n",
       "      <td>9</td>\n",
       "      <td>11</td>\n",
       "      <td>4.0</td>\n",
       "      <td>9.0</td>\n",
       "      <td>2.0</td>\n",
       "      <td>2.0</td>\n",
       "      <td>2.0</td>\n",
       "      <td>2.0</td>\n",
       "      <td>2.0</td>\n",
       "      <td>...</td>\n",
       "      <td>0</td>\n",
       "      <td>0</td>\n",
       "      <td>0</td>\n",
       "      <td>0</td>\n",
       "      <td>0</td>\n",
       "      <td>0</td>\n",
       "      <td>1</td>\n",
       "      <td>294.939800</td>\n",
       "      <td>425.381160</td>\n",
       "      <td>23</td>\n",
       "    </tr>\n",
       "    <tr>\n",
       "      <th>34580</th>\n",
       "      <td>10801</td>\n",
       "      <td>19</td>\n",
       "      <td>11</td>\n",
       "      <td>4.0</td>\n",
       "      <td>10.0</td>\n",
       "      <td>2.0</td>\n",
       "      <td>2.0</td>\n",
       "      <td>2.0</td>\n",
       "      <td>2.0</td>\n",
       "      <td>2.0</td>\n",
       "      <td>...</td>\n",
       "      <td>0</td>\n",
       "      <td>0</td>\n",
       "      <td>0</td>\n",
       "      <td>0</td>\n",
       "      <td>0</td>\n",
       "      <td>0</td>\n",
       "      <td>1</td>\n",
       "      <td>143.342380</td>\n",
       "      <td>237.430820</td>\n",
       "      <td>23</td>\n",
       "    </tr>\n",
       "    <tr>\n",
       "      <th>34581</th>\n",
       "      <td>10801</td>\n",
       "      <td>25</td>\n",
       "      <td>11</td>\n",
       "      <td>4.0</td>\n",
       "      <td>10.0</td>\n",
       "      <td>2.0</td>\n",
       "      <td>1.0</td>\n",
       "      <td>2.0</td>\n",
       "      <td>1.0</td>\n",
       "      <td>2.0</td>\n",
       "      <td>...</td>\n",
       "      <td>0</td>\n",
       "      <td>0</td>\n",
       "      <td>0</td>\n",
       "      <td>0</td>\n",
       "      <td>0</td>\n",
       "      <td>0</td>\n",
       "      <td>1</td>\n",
       "      <td>212.797640</td>\n",
       "      <td>218.342530</td>\n",
       "      <td>23</td>\n",
       "    </tr>\n",
       "    <tr>\n",
       "      <th>34582</th>\n",
       "      <td>10801</td>\n",
       "      <td>30</td>\n",
       "      <td>11</td>\n",
       "      <td>4.0</td>\n",
       "      <td>10.0</td>\n",
       "      <td>1.0</td>\n",
       "      <td>2.0</td>\n",
       "      <td>2.0</td>\n",
       "      <td>2.0</td>\n",
       "      <td>2.0</td>\n",
       "      <td>...</td>\n",
       "      <td>0</td>\n",
       "      <td>0</td>\n",
       "      <td>0</td>\n",
       "      <td>0</td>\n",
       "      <td>0</td>\n",
       "      <td>0</td>\n",
       "      <td>1</td>\n",
       "      <td>239.535250</td>\n",
       "      <td>458.516100</td>\n",
       "      <td>23</td>\n",
       "    </tr>\n",
       "    <tr>\n",
       "      <th>34583</th>\n",
       "      <td>10801</td>\n",
       "      <td>35</td>\n",
       "      <td>11</td>\n",
       "      <td>4.0</td>\n",
       "      <td>11.0</td>\n",
       "      <td>2.0</td>\n",
       "      <td>2.0</td>\n",
       "      <td>2.0</td>\n",
       "      <td>1.0</td>\n",
       "      <td>2.0</td>\n",
       "      <td>...</td>\n",
       "      <td>0</td>\n",
       "      <td>0</td>\n",
       "      <td>0</td>\n",
       "      <td>0</td>\n",
       "      <td>0</td>\n",
       "      <td>0</td>\n",
       "      <td>1</td>\n",
       "      <td>590.231300</td>\n",
       "      <td>768.918640</td>\n",
       "      <td>23</td>\n",
       "    </tr>\n",
       "  </tbody>\n",
       "</table>\n",
       "<p>34584 rows × 198 columns</p>\n",
       "</div>"
      ],
      "text/plain": [
       "       conglome  vivienda  hogar  p300a_t  p301a_t  p301d_t  p303_t  p306_t  \\\n",
       "0          5001         2     11      4.0      6.0      1.0     2.0     2.0   \n",
       "1          5001        23     11      4.0      5.0      1.0     2.0     2.0   \n",
       "2          5001        35     11      4.0      3.0      1.0     2.0     2.0   \n",
       "3          5001        46     11      4.0      6.0      1.0     2.0     2.0   \n",
       "4          5001        67     11      4.0      3.0      1.0     2.0     2.0   \n",
       "...         ...       ...    ...      ...      ...      ...     ...     ...   \n",
       "34579     10801         9     11      4.0      9.0      2.0     2.0     2.0   \n",
       "34580     10801        19     11      4.0     10.0      2.0     2.0     2.0   \n",
       "34581     10801        25     11      4.0     10.0      2.0     1.0     2.0   \n",
       "34582     10801        30     11      4.0     10.0      1.0     2.0     2.0   \n",
       "34583     10801        35     11      4.0     11.0      2.0     2.0     2.0   \n",
       "\n",
       "       p310_t  p310b1_t  ...  p1175_10_t  p1175_11_t  p1175_12_t  p1175_13_t  \\\n",
       "0         2.0       2.0  ...           0           0           0           0   \n",
       "1         2.0       2.0  ...           0           0           0           0   \n",
       "2         2.0       2.0  ...           0           0           0           0   \n",
       "3         2.0       2.0  ...           0           0           0           0   \n",
       "4         2.0       2.0  ...           0           0           0           0   \n",
       "...       ...       ...  ...         ...         ...         ...         ...   \n",
       "34579     2.0       2.0  ...           0           0           0           0   \n",
       "34580     2.0       2.0  ...           0           0           0           0   \n",
       "34581     1.0       2.0  ...           0           0           0           0   \n",
       "34582     2.0       2.0  ...           0           0           0           0   \n",
       "34583     1.0       2.0  ...           0           0           0           0   \n",
       "\n",
       "       p1175_14_t  p1175_15_t  t110_t  gasto_monetario_deflactado  \\\n",
       "0               0           0       2                  276.111500   \n",
       "1               0           2       1                   88.087260   \n",
       "2               0           2       1                   64.939300   \n",
       "3               0           2       2                  143.894700   \n",
       "4               0           0       2                   59.929256   \n",
       "...           ...         ...     ...                         ...   \n",
       "34579           0           0       1                  294.939800   \n",
       "34580           0           0       1                  143.342380   \n",
       "34581           0           0       1                  212.797640   \n",
       "34582           0           0       1                  239.535250   \n",
       "34583           0           0       1                  590.231300   \n",
       "\n",
       "       gasto_bruto_deflactado  region  \n",
       "0                  368.075100       1  \n",
       "1                  125.934160       1  \n",
       "2                  100.953470       1  \n",
       "3                  286.947780       1  \n",
       "4                   66.743935       1  \n",
       "...                       ...     ...  \n",
       "34579              425.381160      23  \n",
       "34580              237.430820      23  \n",
       "34581              218.342530      23  \n",
       "34582              458.516100      23  \n",
       "34583              768.918640      23  \n",
       "\n",
       "[34584 rows x 198 columns]"
      ]
     },
     "execution_count": 7,
     "metadata": {},
     "output_type": "execute_result"
    }
   ],
   "source": [
    "data_original"
   ]
  },
  {
   "cell_type": "markdown",
   "id": "0c77baf7-211c-4260-807a-d0724c8a915b",
   "metadata": {},
   "source": [
    "### 2. Preprocesar datos"
   ]
  },
  {
   "cell_type": "code",
   "execution_count": 8,
   "id": "1caaafd3-484a-49fe-877e-f4ae2b4acc08",
   "metadata": {},
   "outputs": [],
   "source": [
    "# # Imputación de valores del gasto del percentil 1% superior con valores del percentil 99\n",
    "\n",
    "# percentil_superior = 0.01\n",
    "# perc = data_original[ 'gasto_deflactado' ].quantile( 1 - percentil_superior )\n",
    "# data.loc[ data_original [ 'gasto_deflactado' ] > perc, 'gasto_deflactado' ] = perc"
   ]
  },
  {
   "cell_type": "code",
   "execution_count": 9,
   "id": "9ad7d859-6424-44b1-bef8-2efcb8093a61",
   "metadata": {},
   "outputs": [],
   "source": [
    "next_vars = [ 'gasto_monetario_deflactado', 'gasto_bruto_deflactado', 'region', 'conglome',\t'vivienda',\t'hogar' ]\n",
    "data      = data_original.drop(  next_vars , axis = 1 )"
   ]
  },
  {
   "cell_type": "markdown",
   "id": "56fb1f55-6c3a-4987-8e05-94b12c88978b",
   "metadata": {},
   "source": [
    "### 3. Importar modelos entrenados y predecir"
   ]
  },
  {
   "cell_type": "code",
   "execution_count": 10,
   "id": "5fa5c9b6-10af-485d-9969-837baa0d4d76",
   "metadata": {
    "collapsed": true,
    "jupyter": {
     "outputs_hidden": true
    },
    "tags": []
   },
   "outputs": [
    {
     "ename": "KeyError",
     "evalue": "255",
     "output_type": "error",
     "traceback": [
      "\u001b[1;31m---------------------------------------------------------------------------\u001b[0m",
      "\u001b[1;31mKeyError\u001b[0m                                  Traceback (most recent call last)",
      "\u001b[1;32m~\\AppData\\Local\\Temp\\ipykernel_23028\\1097602579.py\u001b[0m in \u001b[0;36m<module>\u001b[1;34m\u001b[0m\n\u001b[1;32m----> 1\u001b[1;33m \u001b[0mrf_optimal_model_o\u001b[0m \u001b[1;33m=\u001b[0m \u001b[0mjoblib\u001b[0m\u001b[1;33m.\u001b[0m\u001b[0mload\u001b[0m\u001b[1;33m(\u001b[0m \u001b[1;34mr'..\\..\\output\\ejecucion_2\\models\\base_17_19\\base_17_19_xgb_nrs.joblib'\u001b[0m \u001b[1;33m)\u001b[0m\u001b[1;33m\u001b[0m\u001b[1;33m\u001b[0m\u001b[0m\n\u001b[0m\u001b[0;32m      2\u001b[0m \u001b[1;33m\u001b[0m\u001b[0m\n\u001b[0;32m      3\u001b[0m \u001b[0my_rf_pred_class_o\u001b[0m  \u001b[1;33m=\u001b[0m \u001b[0mrf_optimal_model_o\u001b[0m\u001b[1;33m.\u001b[0m\u001b[0mpredict\u001b[0m\u001b[1;33m(\u001b[0m \u001b[0mdata\u001b[0m \u001b[1;33m)\u001b[0m\u001b[1;33m\u001b[0m\u001b[1;33m\u001b[0m\u001b[0m\n\u001b[0;32m      4\u001b[0m \u001b[0my_rf_pred_prob_o\u001b[0m   \u001b[1;33m=\u001b[0m \u001b[0mrf_optimal_model_o\u001b[0m\u001b[1;33m.\u001b[0m\u001b[0mpredict_proba\u001b[0m\u001b[1;33m(\u001b[0m \u001b[0mdata\u001b[0m \u001b[1;33m)\u001b[0m\u001b[1;33m[\u001b[0m \u001b[1;33m:\u001b[0m\u001b[1;33m,\u001b[0m \u001b[1;36m1\u001b[0m \u001b[1;33m]\u001b[0m\u001b[1;33m\u001b[0m\u001b[1;33m\u001b[0m\u001b[0m\n",
      "\u001b[1;32mC:\\Anaconda\\lib\\site-packages\\joblib\\numpy_pickle.py\u001b[0m in \u001b[0;36mload\u001b[1;34m(filename, mmap_mode)\u001b[0m\n\u001b[0;32m    585\u001b[0m                     \u001b[1;32mreturn\u001b[0m \u001b[0mload_compatibility\u001b[0m\u001b[1;33m(\u001b[0m\u001b[0mfobj\u001b[0m\u001b[1;33m)\u001b[0m\u001b[1;33m\u001b[0m\u001b[1;33m\u001b[0m\u001b[0m\n\u001b[0;32m    586\u001b[0m \u001b[1;33m\u001b[0m\u001b[0m\n\u001b[1;32m--> 587\u001b[1;33m                 \u001b[0mobj\u001b[0m \u001b[1;33m=\u001b[0m \u001b[0m_unpickle\u001b[0m\u001b[1;33m(\u001b[0m\u001b[0mfobj\u001b[0m\u001b[1;33m,\u001b[0m \u001b[0mfilename\u001b[0m\u001b[1;33m,\u001b[0m \u001b[0mmmap_mode\u001b[0m\u001b[1;33m)\u001b[0m\u001b[1;33m\u001b[0m\u001b[1;33m\u001b[0m\u001b[0m\n\u001b[0m\u001b[0;32m    588\u001b[0m     \u001b[1;32mreturn\u001b[0m \u001b[0mobj\u001b[0m\u001b[1;33m\u001b[0m\u001b[1;33m\u001b[0m\u001b[0m\n",
      "\u001b[1;32mC:\\Anaconda\\lib\\site-packages\\joblib\\numpy_pickle.py\u001b[0m in \u001b[0;36m_unpickle\u001b[1;34m(fobj, filename, mmap_mode)\u001b[0m\n\u001b[0;32m    504\u001b[0m     \u001b[0mobj\u001b[0m \u001b[1;33m=\u001b[0m \u001b[1;32mNone\u001b[0m\u001b[1;33m\u001b[0m\u001b[1;33m\u001b[0m\u001b[0m\n\u001b[0;32m    505\u001b[0m     \u001b[1;32mtry\u001b[0m\u001b[1;33m:\u001b[0m\u001b[1;33m\u001b[0m\u001b[1;33m\u001b[0m\u001b[0m\n\u001b[1;32m--> 506\u001b[1;33m         \u001b[0mobj\u001b[0m \u001b[1;33m=\u001b[0m \u001b[0munpickler\u001b[0m\u001b[1;33m.\u001b[0m\u001b[0mload\u001b[0m\u001b[1;33m(\u001b[0m\u001b[1;33m)\u001b[0m\u001b[1;33m\u001b[0m\u001b[1;33m\u001b[0m\u001b[0m\n\u001b[0m\u001b[0;32m    507\u001b[0m         \u001b[1;32mif\u001b[0m \u001b[0munpickler\u001b[0m\u001b[1;33m.\u001b[0m\u001b[0mcompat_mode\u001b[0m\u001b[1;33m:\u001b[0m\u001b[1;33m\u001b[0m\u001b[1;33m\u001b[0m\u001b[0m\n\u001b[0;32m    508\u001b[0m             warnings.warn(\"The file '%s' has been generated with a \"\n",
      "\u001b[1;32mC:\\Anaconda\\lib\\pickle.py\u001b[0m in \u001b[0;36mload\u001b[1;34m(self)\u001b[0m\n\u001b[0;32m   1210\u001b[0m                     \u001b[1;32mraise\u001b[0m \u001b[0mEOFError\u001b[0m\u001b[1;33m\u001b[0m\u001b[1;33m\u001b[0m\u001b[0m\n\u001b[0;32m   1211\u001b[0m                 \u001b[1;32massert\u001b[0m \u001b[0misinstance\u001b[0m\u001b[1;33m(\u001b[0m\u001b[0mkey\u001b[0m\u001b[1;33m,\u001b[0m \u001b[0mbytes_types\u001b[0m\u001b[1;33m)\u001b[0m\u001b[1;33m\u001b[0m\u001b[1;33m\u001b[0m\u001b[0m\n\u001b[1;32m-> 1212\u001b[1;33m                 \u001b[0mdispatch\u001b[0m\u001b[1;33m[\u001b[0m\u001b[0mkey\u001b[0m\u001b[1;33m[\u001b[0m\u001b[1;36m0\u001b[0m\u001b[1;33m]\u001b[0m\u001b[1;33m]\u001b[0m\u001b[1;33m(\u001b[0m\u001b[0mself\u001b[0m\u001b[1;33m)\u001b[0m\u001b[1;33m\u001b[0m\u001b[1;33m\u001b[0m\u001b[0m\n\u001b[0m\u001b[0;32m   1213\u001b[0m         \u001b[1;32mexcept\u001b[0m \u001b[0m_Stop\u001b[0m \u001b[1;32mas\u001b[0m \u001b[0mstopinst\u001b[0m\u001b[1;33m:\u001b[0m\u001b[1;33m\u001b[0m\u001b[1;33m\u001b[0m\u001b[0m\n\u001b[0;32m   1214\u001b[0m             \u001b[1;32mreturn\u001b[0m \u001b[0mstopinst\u001b[0m\u001b[1;33m.\u001b[0m\u001b[0mvalue\u001b[0m\u001b[1;33m\u001b[0m\u001b[1;33m\u001b[0m\u001b[0m\n",
      "\u001b[1;31mKeyError\u001b[0m: 255"
     ]
    }
   ],
   "source": [
    "rf_optimal_model_o = joblib.load( r'..\\..\\output\\ejecucion_2\\models\\base_17_19\\base_17_19_xgb_nrs.joblib' )\n",
    "\n",
    "y_rf_pred_class_o  = rf_optimal_model_o.predict( data )\n",
    "y_rf_pred_prob_o   = rf_optimal_model_o.predict_proba( data )[ :, 1 ]"
   ]
  },
  {
   "cell_type": "markdown",
   "id": "bd80a62d-73f7-46b5-b5a5-b30d498fe4ce",
   "metadata": {},
   "source": [
    "### 4. Identificar hogares vulnerables"
   ]
  },
  {
   "cell_type": "code",
   "execution_count": null,
   "id": "991febd5-2f0c-4566-bfea-fde8efec6b3f",
   "metadata": {
    "collapsed": true,
    "jupyter": {
     "outputs_hidden": true
    },
    "tags": []
   },
   "outputs": [
    {
     "ename": "NameError",
     "evalue": "name 'y_rf_pred_class_o' is not defined",
     "output_type": "error",
     "traceback": [
      "\u001b[1;31m---------------------------------------------------------------------------\u001b[0m",
      "\u001b[1;31mNameError\u001b[0m                                 Traceback (most recent call last)",
      "\u001b[1;32m~\\AppData\\Local\\Temp\\ipykernel_10632\\1285400870.py\u001b[0m in \u001b[0;36m<module>\u001b[1;34m\u001b[0m\n\u001b[0;32m      1\u001b[0m \u001b[0mdata_completa\u001b[0m \u001b[1;33m=\u001b[0m \u001b[0mdata_original\u001b[0m\u001b[1;33m.\u001b[0m\u001b[0mcopy\u001b[0m\u001b[1;33m(\u001b[0m \u001b[0mdeep\u001b[0m \u001b[1;33m=\u001b[0m \u001b[1;32mTrue\u001b[0m \u001b[1;33m)\u001b[0m\u001b[1;33m\u001b[0m\u001b[1;33m\u001b[0m\u001b[0m\n\u001b[0;32m      2\u001b[0m \u001b[1;33m\u001b[0m\u001b[0m\n\u001b[1;32m----> 3\u001b[1;33m \u001b[0mdata_completa\u001b[0m\u001b[1;33m[\u001b[0m \u001b[1;34m'class_pobreza'\u001b[0m \u001b[1;33m]\u001b[0m \u001b[1;33m=\u001b[0m \u001b[0my_rf_pred_class_o\u001b[0m\u001b[1;33m\u001b[0m\u001b[1;33m\u001b[0m\u001b[0m\n\u001b[0m\u001b[0;32m      4\u001b[0m \u001b[0mdata_completa\u001b[0m\u001b[1;33m[\u001b[0m \u001b[1;34m'prob_pobreza'\u001b[0m \u001b[1;33m]\u001b[0m  \u001b[1;33m=\u001b[0m \u001b[0my_rf_pred_prob_o\u001b[0m\u001b[1;33m\u001b[0m\u001b[1;33m\u001b[0m\u001b[0m\n",
      "\u001b[1;31mNameError\u001b[0m: name 'y_rf_pred_class_o' is not defined"
     ]
    }
   ],
   "source": [
    "data_completa = data_original.copy( deep = True )\n",
    "\n",
    "data_completa[ 'class_pobreza' ] = y_rf_pred_class_o\n",
    "data_completa[ 'prob_pobreza' ]  = y_rf_pred_prob_o"
   ]
  },
  {
   "cell_type": "markdown",
   "id": "c542b60a-3665-442a-b6cf-c7a876342e82",
   "metadata": {},
   "source": [
    "Se considera distintas amplitudes de caliper: \n",
    "* 1: +-   2\n",
    "* 2: +-   1\n",
    "* 3: +- 0.5"
   ]
  },
  {
   "cell_type": "code",
   "execution_count": null,
   "id": "570c1c2f-1659-4396-84ec-ef3672bfd9bf",
   "metadata": {},
   "outputs": [],
   "source": [
    "limite_min_1 = 0.070\n",
    "limite_max_1 = 0.110\n",
    "\n",
    "limite_min_2 = 0.080\n",
    "limite_max_2 = 0.100\n",
    "\n",
    "limite_min_3 = 0.085\n",
    "limite_max_3 = 0.095\n",
    "\n",
    "hogares_vulnerables_1 = data_completa[ ( data_completa[ 'prob_pobreza' ] >= limite_min_1 ) & data_completa[ ( data_completa[ 'prob_pobreza' ] <= limite_max_1 ) ]\n",
    "hogares_vulnerables_2 = data_completa[ ( data_completa[ 'prob_pobreza' ] >= limite_min_2 ) & data_completa[ ( data_completa[ 'prob_pobreza' ] <= limite_max_2 ) ]\n",
    "hogares_vulnerables_3 = data_completa[ ( data_completa[ 'prob_pobreza' ] >= limite_min_3 ) & data_completa[ ( data_completa[ 'prob_pobreza' ] <= limite_max_3 ) ]"
   ]
  },
  {
   "cell_type": "markdown",
   "id": "ecbf0d6b-457d-41b6-981f-403f5b9fa362",
   "metadata": {},
   "source": [
    "### 5. Calcular la línea de vulnerabilidad"
   ]
  },
  {
   "cell_type": "code",
   "execution_count": null,
   "id": "e5204ff6-379f-4680-b29d-8ccaf7e9b2f1",
   "metadata": {},
   "outputs": [],
   "source": [
    "linea_vul_1 = hogares_vulnerables_1[ 'gasto_deflactado' ].mean()\n",
    "linea_vul_1"
   ]
  },
  {
   "cell_type": "code",
   "execution_count": null,
   "id": "1933536f-a7d0-47ba-aaa5-0474f378fcd5",
   "metadata": {},
   "outputs": [],
   "source": [
    "linea_vul_2 = hogares_vulnerables_2[ 'gasto_deflactado' ].mean()\n",
    "linea_vul_2"
   ]
  },
  {
   "cell_type": "code",
   "execution_count": null,
   "id": "ba64294b-5794-4186-b7e8-ca6a112c663d",
   "metadata": {},
   "outputs": [],
   "source": [
    "linea_vul_2 = hogares_vulnerables_2[ 'gasto_deflactado' ].mean()\n",
    "linea_vul_2"
   ]
  }
 ],
 "metadata": {
  "kernelspec": {
   "display_name": "Python 3 (ipykernel)",
   "language": "python",
   "name": "python3"
  },
  "language_info": {
   "codemirror_mode": {
    "name": "ipython",
    "version": 3
   },
   "file_extension": ".py",
   "mimetype": "text/x-python",
   "name": "python",
   "nbconvert_exporter": "python",
   "pygments_lexer": "ipython3",
   "version": "3.9.13"
  }
 },
 "nbformat": 4,
 "nbformat_minor": 5
}
