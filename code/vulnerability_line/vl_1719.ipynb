{
 "cells": [
  {
   "cell_type": "markdown",
   "id": "4aae9323-694f-4976-9146-72010705c0fd",
   "metadata": {},
   "source": [
    "# BASE 1719"
   ]
  },
  {
   "cell_type": "markdown",
   "id": "ec0d6e3c-9e39-4fd9-8c58-2d17830f898b",
   "metadata": {},
   "source": [
    "Information:\n",
    "* Periodo: 2017-2019\n",
    "* Objetivo: predicción de pobreza"
   ]
  },
  {
   "cell_type": "markdown",
   "id": "d236ca29-9cac-467a-b71c-5ee069a0c66e",
   "metadata": {},
   "source": [
    "## 1. Importar datos y librerias"
   ]
  },
  {
   "cell_type": "code",
   "execution_count": null,
   "id": "68aac77e-aa90-4248-8dbb-59b431514229",
   "metadata": {},
   "outputs": [],
   "source": [
    "import warnings\n",
    "warnings.filterwarnings( 'ignore' )"
   ]
  },
  {
   "cell_type": "code",
   "execution_count": null,
   "id": "7568e757-1cfa-4417-8f45-1c2336d9c2cb",
   "metadata": {},
   "outputs": [],
   "source": [
    "import pandas as  pd\n",
    "import numpy as np\n",
    "import pickle\n",
    "import joblib"
   ]
  },
  {
   "cell_type": "code",
   "execution_count": null,
   "id": "a9be3529-3dfb-44f6-b43f-f2bb181f29da",
   "metadata": {},
   "outputs": [],
   "source": [
    "import variables_nombres as vn"
   ]
  },
  {
   "cell_type": "code",
   "execution_count": null,
   "id": "aac33820-a19a-42ae-b3f9-a5c9bdc48abd",
   "metadata": {},
   "outputs": [],
   "source": [
    "path = r'..\\..\\..\\input\\vulnerability_line\\base_17_19_vl.csv'\n",
    "data_original = pd.read_csv( path )"
   ]
  },
  {
   "cell_type": "code",
   "execution_count": null,
   "id": "e15a751c-0f40-48e0-9f7a-9b1d032ed535",
   "metadata": {},
   "outputs": [],
   "source": [
    "data_original.shape"
   ]
  },
  {
   "cell_type": "markdown",
   "id": "0c77baf7-211c-4260-807a-d0724c8a915b",
   "metadata": {},
   "source": [
    "### 2. Preprocesar datos"
   ]
  },
  {
   "cell_type": "code",
   "execution_count": null,
   "id": "1caaafd3-484a-49fe-877e-f4ae2b4acc08",
   "metadata": {},
   "outputs": [],
   "source": [
    "# Imputación de valores del gasto del percentil 1% superior con valores del percentil 99\n",
    "\n",
    "percentil_superior = 0.01\n",
    "perc = data_original[ 'gasto_deflactado' ].quantile( 1 - percentil_superior )\n",
    "data.loc[ data_original [ 'gasto_deflactado' ] > perc, 'gasto_deflactado' ] = perc"
   ]
  },
  {
   "cell_type": "code",
   "execution_count": null,
   "id": "9ad7d859-6424-44b1-bef8-2efcb8093a61",
   "metadata": {},
   "outputs": [],
   "source": [
    "next_vars = [ 'gasto_deflactado', 'regiones' ]\n",
    "data      = data_original[ next_vars ]"
   ]
  },
  {
   "cell_type": "markdown",
   "id": "56fb1f55-6c3a-4987-8e05-94b12c88978b",
   "metadata": {},
   "source": [
    "### 3. Importar modelos entrenados y predecir"
   ]
  },
  {
   "cell_type": "code",
   "execution_count": null,
   "id": "5fa5c9b6-10af-485d-9969-837baa0d4d76",
   "metadata": {},
   "outputs": [],
   "source": [
    "rf_optimal_model_o = joblib.load( r'..\\..\\output\\ejecucion_1\\models\\base_17_19\\base_17_19_lg_model_ojoblib' )\n",
    "\n",
    "y_rf_pred_class_o  = rf_optimal_model_o.predict( data )\n",
    "y_rf_pred_prob_o   = rf_optimal_model_o.predict_proba( data )[ :, 1 ]"
   ]
  },
  {
   "cell_type": "markdown",
   "id": "bd80a62d-73f7-46b5-b5a5-b30d498fe4ce",
   "metadata": {},
   "source": [
    "### 4. Identificar hogares vulnerables"
   ]
  },
  {
   "cell_type": "code",
   "execution_count": null,
   "id": "991febd5-2f0c-4566-bfea-fde8efec6b3f",
   "metadata": {},
   "outputs": [],
   "source": [
    "data_completa = data_original.copy( deep = True )\n",
    "\n",
    "data_completa[ 'class_pobreza' ] = y_rf_pred_class_o\n",
    "data_completa[ 'prob_pobreza' ]  = y_rf_pred_prob_o"
   ]
  },
  {
   "cell_type": "markdown",
   "id": "c542b60a-3665-442a-b6cf-c7a876342e82",
   "metadata": {},
   "source": [
    "Se considera distintas amplitudes de caliper: \n",
    "* 1: +-   2\n",
    "* 2: +-   1\n",
    "* 3: +- 0.5"
   ]
  },
  {
   "cell_type": "code",
   "execution_count": null,
   "id": "570c1c2f-1659-4396-84ec-ef3672bfd9bf",
   "metadata": {},
   "outputs": [],
   "source": [
    "limite_min_1 = 0.070\n",
    "limite_max_1 = 0.110\n",
    "\n",
    "limite_min_2 = 0.080\n",
    "limite_max_2 = 0.100\n",
    "\n",
    "limite_min_3 = 0.085\n",
    "limite_max_3 = 0.095\n",
    "\n",
    "hogares_vulnerables_1 = data_completa[ ( data_completa[ 'prob_pobreza' ] >= limite_min_1 ) & data_completa[ ( data_completa[ 'prob_pobreza' ] <= limite_max_1 ) ]\n",
    "hogares_vulnerables_2 = data_completa[ ( data_completa[ 'prob_pobreza' ] >= limite_min_2 ) & data_completa[ ( data_completa[ 'prob_pobreza' ] <= limite_max_2 ) ]\n",
    "hogares_vulnerables_3 = data_completa[ ( data_completa[ 'prob_pobreza' ] >= limite_min_3 ) & data_completa[ ( data_completa[ 'prob_pobreza' ] <= limite_max_3 ) ]"
   ]
  },
  {
   "cell_type": "markdown",
   "id": "ecbf0d6b-457d-41b6-981f-403f5b9fa362",
   "metadata": {},
   "source": [
    "### 5. Calcular la línea de vulnerabilidad"
   ]
  },
  {
   "cell_type": "code",
   "execution_count": null,
   "id": "e5204ff6-379f-4680-b29d-8ccaf7e9b2f1",
   "metadata": {},
   "outputs": [],
   "source": [
    "linea_vul_1 = hogares_vulnerables_1[ 'gasto_deflactado' ].mean()\n",
    "linea_vul_1"
   ]
  },
  {
   "cell_type": "code",
   "execution_count": null,
   "id": "1933536f-a7d0-47ba-aaa5-0474f378fcd5",
   "metadata": {},
   "outputs": [],
   "source": [
    "linea_vul_2 = hogares_vulnerables_2[ 'gasto_deflactado' ].mean()\n",
    "linea_vul_2"
   ]
  },
  {
   "cell_type": "code",
   "execution_count": null,
   "id": "ba64294b-5794-4186-b7e8-ca6a112c663d",
   "metadata": {},
   "outputs": [],
   "source": [
    "linea_vul_2 = hogares_vulnerables_2[ 'gasto_deflactado' ].mean()\n",
    "linea_vul_2"
   ]
  }
 ],
 "metadata": {
  "kernelspec": {
   "display_name": "Python 3 (ipykernel)",
   "language": "python",
   "name": "python3"
  },
  "language_info": {
   "codemirror_mode": {
    "name": "ipython",
    "version": 3
   },
   "file_extension": ".py",
   "mimetype": "text/x-python",
   "name": "python",
   "nbconvert_exporter": "python",
   "pygments_lexer": "ipython3",
   "version": "3.9.13"
  }
 },
 "nbformat": 4,
 "nbformat_minor": 5
}
